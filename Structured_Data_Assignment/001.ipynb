{
 "cells": [
  {
   "cell_type": "markdown",
   "metadata": {
    "id": "Olp9elYs3xGh"
   },
   "source": [
    "\n",
    "# Problem 1 -> \n",
    "\n",
    "## Predicting the patient's eligibility to a given target drug in next 30 days."
   ]
  },
  {
   "cell_type": "markdown",
   "metadata": {
    "id": "DFoOtgG432FX"
   },
   "source": [
    "Data Description - The data folder contains following files\n",
    "\n",
    "1) Train.parquet - Dataset to be used for training\n",
    "2) Test.parquet - Dataset to be used for testing\n",
    "3) Sample_submission.csv - a sample csv file showing how the output should be\n",
    "4) Final_submission.csv - csv file to be submitted finally after generating the output"
   ]
  },
  {
   "cell_type": "markdown",
   "metadata": {
    "id": "jKkHjqYd35II"
   },
   "source": [
    "## Brief Description of the Dataset -\n"
   ]
  },
  {
   "cell_type": "markdown",
   "metadata": {},
   "source": [
    "The dataset in question contains a comprehensive collection of electronic health records belonging to patients who have been diagnosed with a specific disease. These health records comprise a detailed log of every aspect of the patients' medical history, including all diagnoses, symptoms, prescribed drug treatments, and medical tests that they have undergone. Each row represents a healthcare record/medical event for a patient and it includes a timestamp for each entry/event, thereby allowing for a chronological view of the patient's medical history.\n",
    "\n",
    "The Data has mainly three columns\n",
    "\n",
    "1) Patient-Uid - Unique Alphanumeric Identifier for a patient\n",
    "2) Date - Date when patient encountered the event.\n",
    "3) Incident - This columns describes which event occurred on the day."
   ]
  },
  {
   "cell_type": "markdown",
   "metadata": {},
   "source": [
    "### Install Required Packages "
   ]
  },
  {
   "cell_type": "code",
   "execution_count": 1,
   "metadata": {},
   "outputs": [
    {
     "name": "stdout",
     "output_type": "stream",
     "text": [
      "Requirement already satisfied: fastparquet in /Library/Frameworks/Python.framework/Versions/3.11/lib/python3.11/site-packages (2023.8.0)\n",
      "Requirement already satisfied: pandas>=1.5.0 in /Library/Frameworks/Python.framework/Versions/3.11/lib/python3.11/site-packages (from fastparquet) (2.0.1)\n",
      "Requirement already satisfied: numpy>=1.20.3 in /Library/Frameworks/Python.framework/Versions/3.11/lib/python3.11/site-packages (from fastparquet) (1.24.3)\n",
      "Requirement already satisfied: cramjam>=2.3 in /Library/Frameworks/Python.framework/Versions/3.11/lib/python3.11/site-packages (from fastparquet) (2.7.0)\n",
      "Requirement already satisfied: fsspec in /Library/Frameworks/Python.framework/Versions/3.11/lib/python3.11/site-packages (from fastparquet) (2023.10.0)\n",
      "Requirement already satisfied: packaging in /Library/Frameworks/Python.framework/Versions/3.11/lib/python3.11/site-packages (from fastparquet) (23.1)\n",
      "Requirement already satisfied: python-dateutil>=2.8.2 in /Library/Frameworks/Python.framework/Versions/3.11/lib/python3.11/site-packages (from pandas>=1.5.0->fastparquet) (2.8.2)\n",
      "Requirement already satisfied: pytz>=2020.1 in /Library/Frameworks/Python.framework/Versions/3.11/lib/python3.11/site-packages (from pandas>=1.5.0->fastparquet) (2023.3)\n",
      "Requirement already satisfied: tzdata>=2022.1 in /Library/Frameworks/Python.framework/Versions/3.11/lib/python3.11/site-packages (from pandas>=1.5.0->fastparquet) (2023.3)\n",
      "Requirement already satisfied: six>=1.5 in /Library/Frameworks/Python.framework/Versions/3.11/lib/python3.11/site-packages (from python-dateutil>=2.8.2->pandas>=1.5.0->fastparquet) (1.16.0)\n",
      "Requirement already satisfied: tensorflow in /Library/Frameworks/Python.framework/Versions/3.11/lib/python3.11/site-packages (2.14.0)\n",
      "Requirement already satisfied: absl-py>=1.0.0 in /Library/Frameworks/Python.framework/Versions/3.11/lib/python3.11/site-packages (from tensorflow) (2.0.0)\n",
      "Requirement already satisfied: astunparse>=1.6.0 in /Library/Frameworks/Python.framework/Versions/3.11/lib/python3.11/site-packages (from tensorflow) (1.6.3)\n",
      "Requirement already satisfied: flatbuffers>=23.5.26 in /Library/Frameworks/Python.framework/Versions/3.11/lib/python3.11/site-packages (from tensorflow) (23.5.26)\n",
      "Requirement already satisfied: gast!=0.5.0,!=0.5.1,!=0.5.2,>=0.2.1 in /Library/Frameworks/Python.framework/Versions/3.11/lib/python3.11/site-packages (from tensorflow) (0.5.4)\n",
      "Requirement already satisfied: google-pasta>=0.1.1 in /Library/Frameworks/Python.framework/Versions/3.11/lib/python3.11/site-packages (from tensorflow) (0.2.0)\n",
      "Requirement already satisfied: h5py>=2.9.0 in /Library/Frameworks/Python.framework/Versions/3.11/lib/python3.11/site-packages (from tensorflow) (3.10.0)\n",
      "Requirement already satisfied: libclang>=13.0.0 in /Library/Frameworks/Python.framework/Versions/3.11/lib/python3.11/site-packages (from tensorflow) (16.0.6)\n",
      "Requirement already satisfied: ml-dtypes==0.2.0 in /Library/Frameworks/Python.framework/Versions/3.11/lib/python3.11/site-packages (from tensorflow) (0.2.0)\n",
      "Requirement already satisfied: numpy>=1.23.5 in /Library/Frameworks/Python.framework/Versions/3.11/lib/python3.11/site-packages (from tensorflow) (1.24.3)\n",
      "Requirement already satisfied: opt-einsum>=2.3.2 in /Library/Frameworks/Python.framework/Versions/3.11/lib/python3.11/site-packages (from tensorflow) (3.3.0)\n",
      "Requirement already satisfied: packaging in /Library/Frameworks/Python.framework/Versions/3.11/lib/python3.11/site-packages (from tensorflow) (23.1)\n",
      "Requirement already satisfied: protobuf!=4.21.0,!=4.21.1,!=4.21.2,!=4.21.3,!=4.21.4,!=4.21.5,<5.0.0dev,>=3.20.3 in /Library/Frameworks/Python.framework/Versions/3.11/lib/python3.11/site-packages (from tensorflow) (3.20.3)\n",
      "Requirement already satisfied: setuptools in /Library/Frameworks/Python.framework/Versions/3.11/lib/python3.11/site-packages (from tensorflow) (65.5.0)\n",
      "Requirement already satisfied: six>=1.12.0 in /Library/Frameworks/Python.framework/Versions/3.11/lib/python3.11/site-packages (from tensorflow) (1.16.0)\n",
      "Requirement already satisfied: termcolor>=1.1.0 in /Library/Frameworks/Python.framework/Versions/3.11/lib/python3.11/site-packages (from tensorflow) (2.3.0)\n",
      "Requirement already satisfied: typing-extensions>=3.6.6 in /Library/Frameworks/Python.framework/Versions/3.11/lib/python3.11/site-packages (from tensorflow) (4.8.0)\n",
      "Requirement already satisfied: wrapt<1.15,>=1.11.0 in /Library/Frameworks/Python.framework/Versions/3.11/lib/python3.11/site-packages (from tensorflow) (1.14.1)\n",
      "Requirement already satisfied: tensorflow-io-gcs-filesystem>=0.23.1 in /Library/Frameworks/Python.framework/Versions/3.11/lib/python3.11/site-packages (from tensorflow) (0.34.0)\n",
      "Requirement already satisfied: grpcio<2.0,>=1.24.3 in /Library/Frameworks/Python.framework/Versions/3.11/lib/python3.11/site-packages (from tensorflow) (1.59.0)\n",
      "Requirement already satisfied: tensorboard<2.15,>=2.14 in /Library/Frameworks/Python.framework/Versions/3.11/lib/python3.11/site-packages (from tensorflow) (2.14.1)\n",
      "Requirement already satisfied: tensorflow-estimator<2.15,>=2.14.0 in /Library/Frameworks/Python.framework/Versions/3.11/lib/python3.11/site-packages (from tensorflow) (2.14.0)\n",
      "Requirement already satisfied: keras<2.15,>=2.14.0 in /Library/Frameworks/Python.framework/Versions/3.11/lib/python3.11/site-packages (from tensorflow) (2.14.0)\n",
      "Requirement already satisfied: wheel<1.0,>=0.23.0 in /Library/Frameworks/Python.framework/Versions/3.11/lib/python3.11/site-packages (from astunparse>=1.6.0->tensorflow) (0.41.2)\n",
      "Requirement already satisfied: google-auth<3,>=1.6.3 in /Library/Frameworks/Python.framework/Versions/3.11/lib/python3.11/site-packages (from tensorboard<2.15,>=2.14->tensorflow) (2.23.3)\n",
      "Requirement already satisfied: google-auth-oauthlib<1.1,>=0.5 in /Library/Frameworks/Python.framework/Versions/3.11/lib/python3.11/site-packages (from tensorboard<2.15,>=2.14->tensorflow) (1.0.0)\n",
      "Requirement already satisfied: markdown>=2.6.8 in /Library/Frameworks/Python.framework/Versions/3.11/lib/python3.11/site-packages (from tensorboard<2.15,>=2.14->tensorflow) (3.5)\n",
      "Requirement already satisfied: requests<3,>=2.21.0 in /Library/Frameworks/Python.framework/Versions/3.11/lib/python3.11/site-packages (from tensorboard<2.15,>=2.14->tensorflow) (2.31.0)\n",
      "Requirement already satisfied: tensorboard-data-server<0.8.0,>=0.7.0 in /Library/Frameworks/Python.framework/Versions/3.11/lib/python3.11/site-packages (from tensorboard<2.15,>=2.14->tensorflow) (0.7.2)\n",
      "Requirement already satisfied: werkzeug>=1.0.1 in /Library/Frameworks/Python.framework/Versions/3.11/lib/python3.11/site-packages (from tensorboard<2.15,>=2.14->tensorflow) (3.0.0)\n",
      "Requirement already satisfied: cachetools<6.0,>=2.0.0 in /Library/Frameworks/Python.framework/Versions/3.11/lib/python3.11/site-packages (from google-auth<3,>=1.6.3->tensorboard<2.15,>=2.14->tensorflow) (5.3.1)\n",
      "Requirement already satisfied: pyasn1-modules>=0.2.1 in /Library/Frameworks/Python.framework/Versions/3.11/lib/python3.11/site-packages (from google-auth<3,>=1.6.3->tensorboard<2.15,>=2.14->tensorflow) (0.3.0)\n",
      "Requirement already satisfied: rsa<5,>=3.1.4 in /Library/Frameworks/Python.framework/Versions/3.11/lib/python3.11/site-packages (from google-auth<3,>=1.6.3->tensorboard<2.15,>=2.14->tensorflow) (4.9)\n",
      "Requirement already satisfied: requests-oauthlib>=0.7.0 in /Library/Frameworks/Python.framework/Versions/3.11/lib/python3.11/site-packages (from google-auth-oauthlib<1.1,>=0.5->tensorboard<2.15,>=2.14->tensorflow) (1.3.1)\n",
      "Requirement already satisfied: charset-normalizer<4,>=2 in /Library/Frameworks/Python.framework/Versions/3.11/lib/python3.11/site-packages (from requests<3,>=2.21.0->tensorboard<2.15,>=2.14->tensorflow) (3.1.0)\n",
      "Requirement already satisfied: idna<4,>=2.5 in /Library/Frameworks/Python.framework/Versions/3.11/lib/python3.11/site-packages (from requests<3,>=2.21.0->tensorboard<2.15,>=2.14->tensorflow) (3.4)\n",
      "Requirement already satisfied: urllib3<3,>=1.21.1 in /Library/Frameworks/Python.framework/Versions/3.11/lib/python3.11/site-packages (from requests<3,>=2.21.0->tensorboard<2.15,>=2.14->tensorflow) (2.0.7)\n",
      "Requirement already satisfied: certifi>=2017.4.17 in /Library/Frameworks/Python.framework/Versions/3.11/lib/python3.11/site-packages (from requests<3,>=2.21.0->tensorboard<2.15,>=2.14->tensorflow) (2023.5.7)\n",
      "Requirement already satisfied: MarkupSafe>=2.1.1 in /Library/Frameworks/Python.framework/Versions/3.11/lib/python3.11/site-packages (from werkzeug>=1.0.1->tensorboard<2.15,>=2.14->tensorflow) (2.1.2)\n"
     ]
    },
    {
     "name": "stdout",
     "output_type": "stream",
     "text": [
      "Requirement already satisfied: pyasn1<0.6.0,>=0.4.6 in /Library/Frameworks/Python.framework/Versions/3.11/lib/python3.11/site-packages (from pyasn1-modules>=0.2.1->google-auth<3,>=1.6.3->tensorboard<2.15,>=2.14->tensorflow) (0.5.0)\n",
      "Requirement already satisfied: oauthlib>=3.0.0 in /Library/Frameworks/Python.framework/Versions/3.11/lib/python3.11/site-packages (from requests-oauthlib>=0.7.0->google-auth-oauthlib<1.1,>=0.5->tensorboard<2.15,>=2.14->tensorflow) (3.2.2)\n",
      "Requirement already satisfied: scikit-learn in /Library/Frameworks/Python.framework/Versions/3.11/lib/python3.11/site-packages (1.3.2)\n",
      "Requirement already satisfied: numpy<2.0,>=1.17.3 in /Library/Frameworks/Python.framework/Versions/3.11/lib/python3.11/site-packages (from scikit-learn) (1.24.3)\n",
      "Requirement already satisfied: scipy>=1.5.0 in /Library/Frameworks/Python.framework/Versions/3.11/lib/python3.11/site-packages (from scikit-learn) (1.11.3)\n",
      "Requirement already satisfied: joblib>=1.1.1 in /Library/Frameworks/Python.framework/Versions/3.11/lib/python3.11/site-packages (from scikit-learn) (1.3.2)\n",
      "Requirement already satisfied: threadpoolctl>=2.0.0 in /Library/Frameworks/Python.framework/Versions/3.11/lib/python3.11/site-packages (from scikit-learn) (3.2.0)\n",
      "Requirement already satisfied: xgboost in /Library/Frameworks/Python.framework/Versions/3.11/lib/python3.11/site-packages (2.0.1)\n",
      "Requirement already satisfied: numpy in /Library/Frameworks/Python.framework/Versions/3.11/lib/python3.11/site-packages (from xgboost) (1.24.3)\n",
      "Requirement already satisfied: scipy in /Library/Frameworks/Python.framework/Versions/3.11/lib/python3.11/site-packages (from xgboost) (1.11.3)\n",
      "Requirement already satisfied: pandas in /Library/Frameworks/Python.framework/Versions/3.11/lib/python3.11/site-packages (2.0.1)\n",
      "Requirement already satisfied: python-dateutil>=2.8.2 in /Library/Frameworks/Python.framework/Versions/3.11/lib/python3.11/site-packages (from pandas) (2.8.2)\n",
      "Requirement already satisfied: pytz>=2020.1 in /Library/Frameworks/Python.framework/Versions/3.11/lib/python3.11/site-packages (from pandas) (2023.3)\n",
      "Requirement already satisfied: tzdata>=2022.1 in /Library/Frameworks/Python.framework/Versions/3.11/lib/python3.11/site-packages (from pandas) (2023.3)\n",
      "Requirement already satisfied: numpy>=1.21.0 in /Library/Frameworks/Python.framework/Versions/3.11/lib/python3.11/site-packages (from pandas) (1.24.3)\n",
      "Requirement already satisfied: six>=1.5 in /Library/Frameworks/Python.framework/Versions/3.11/lib/python3.11/site-packages (from python-dateutil>=2.8.2->pandas) (1.16.0)\n",
      "Requirement already satisfied: numpy in /Library/Frameworks/Python.framework/Versions/3.11/lib/python3.11/site-packages (1.24.3)\n",
      "Requirement already satisfied: seaborn in /Library/Frameworks/Python.framework/Versions/3.11/lib/python3.11/site-packages (0.13.0)\n",
      "Requirement already satisfied: numpy!=1.24.0,>=1.20 in /Library/Frameworks/Python.framework/Versions/3.11/lib/python3.11/site-packages (from seaborn) (1.24.3)\n",
      "Requirement already satisfied: pandas>=1.2 in /Library/Frameworks/Python.framework/Versions/3.11/lib/python3.11/site-packages (from seaborn) (2.0.1)\n",
      "Requirement already satisfied: matplotlib!=3.6.1,>=3.3 in /Library/Frameworks/Python.framework/Versions/3.11/lib/python3.11/site-packages (from seaborn) (3.8.0)\n",
      "Requirement already satisfied: contourpy>=1.0.1 in /Library/Frameworks/Python.framework/Versions/3.11/lib/python3.11/site-packages (from matplotlib!=3.6.1,>=3.3->seaborn) (1.1.1)\n",
      "Requirement already satisfied: cycler>=0.10 in /Library/Frameworks/Python.framework/Versions/3.11/lib/python3.11/site-packages (from matplotlib!=3.6.1,>=3.3->seaborn) (0.12.1)\n",
      "Requirement already satisfied: fonttools>=4.22.0 in /Library/Frameworks/Python.framework/Versions/3.11/lib/python3.11/site-packages (from matplotlib!=3.6.1,>=3.3->seaborn) (4.43.1)\n",
      "Requirement already satisfied: kiwisolver>=1.0.1 in /Library/Frameworks/Python.framework/Versions/3.11/lib/python3.11/site-packages (from matplotlib!=3.6.1,>=3.3->seaborn) (1.4.5)\n",
      "Requirement already satisfied: packaging>=20.0 in /Library/Frameworks/Python.framework/Versions/3.11/lib/python3.11/site-packages (from matplotlib!=3.6.1,>=3.3->seaborn) (23.1)\n",
      "Requirement already satisfied: pillow>=6.2.0 in /Library/Frameworks/Python.framework/Versions/3.11/lib/python3.11/site-packages (from matplotlib!=3.6.1,>=3.3->seaborn) (9.5.0)\n",
      "Requirement already satisfied: pyparsing>=2.3.1 in /Library/Frameworks/Python.framework/Versions/3.11/lib/python3.11/site-packages (from matplotlib!=3.6.1,>=3.3->seaborn) (3.1.1)\n",
      "Requirement already satisfied: python-dateutil>=2.7 in /Library/Frameworks/Python.framework/Versions/3.11/lib/python3.11/site-packages (from matplotlib!=3.6.1,>=3.3->seaborn) (2.8.2)\n",
      "Requirement already satisfied: pytz>=2020.1 in /Library/Frameworks/Python.framework/Versions/3.11/lib/python3.11/site-packages (from pandas>=1.2->seaborn) (2023.3)\n",
      "Requirement already satisfied: tzdata>=2022.1 in /Library/Frameworks/Python.framework/Versions/3.11/lib/python3.11/site-packages (from pandas>=1.2->seaborn) (2023.3)\n",
      "Requirement already satisfied: six>=1.5 in /Library/Frameworks/Python.framework/Versions/3.11/lib/python3.11/site-packages (from python-dateutil>=2.7->matplotlib!=3.6.1,>=3.3->seaborn) (1.16.0)\n",
      "Requirement already satisfied: matplotlib in /Library/Frameworks/Python.framework/Versions/3.11/lib/python3.11/site-packages (3.8.0)\n",
      "Requirement already satisfied: contourpy>=1.0.1 in /Library/Frameworks/Python.framework/Versions/3.11/lib/python3.11/site-packages (from matplotlib) (1.1.1)\n",
      "Requirement already satisfied: cycler>=0.10 in /Library/Frameworks/Python.framework/Versions/3.11/lib/python3.11/site-packages (from matplotlib) (0.12.1)\n",
      "Requirement already satisfied: fonttools>=4.22.0 in /Library/Frameworks/Python.framework/Versions/3.11/lib/python3.11/site-packages (from matplotlib) (4.43.1)\n",
      "Requirement already satisfied: kiwisolver>=1.0.1 in /Library/Frameworks/Python.framework/Versions/3.11/lib/python3.11/site-packages (from matplotlib) (1.4.5)\n",
      "Requirement already satisfied: numpy<2,>=1.21 in /Library/Frameworks/Python.framework/Versions/3.11/lib/python3.11/site-packages (from matplotlib) (1.24.3)\n",
      "Requirement already satisfied: packaging>=20.0 in /Library/Frameworks/Python.framework/Versions/3.11/lib/python3.11/site-packages (from matplotlib) (23.1)\n",
      "Requirement already satisfied: pillow>=6.2.0 in /Library/Frameworks/Python.framework/Versions/3.11/lib/python3.11/site-packages (from matplotlib) (9.5.0)\n",
      "Requirement already satisfied: pyparsing>=2.3.1 in /Library/Frameworks/Python.framework/Versions/3.11/lib/python3.11/site-packages (from matplotlib) (3.1.1)\n",
      "Requirement already satisfied: python-dateutil>=2.7 in /Library/Frameworks/Python.framework/Versions/3.11/lib/python3.11/site-packages (from matplotlib) (2.8.2)\n",
      "Requirement already satisfied: six>=1.5 in /Library/Frameworks/Python.framework/Versions/3.11/lib/python3.11/site-packages (from python-dateutil>=2.7->matplotlib) (1.16.0)\n"
     ]
    }
   ],
   "source": [
    "!pip install fastparquet\n",
    "!pip install tensorflow\n",
    "!pip install scikit-learn\n",
    "!pip install xgboost\n",
    "!pip install pandas\n",
    "!pip install numpy\n",
    "!pip install seaborn\n",
    "!pip install matplotlib"
   ]
  },
  {
   "cell_type": "code",
   "execution_count": null,
   "metadata": {},
   "outputs": [],
   "source": []
  },
  {
   "cell_type": "code",
   "execution_count": 2,
   "metadata": {
    "id": "KV8IqXkB6VdY"
   },
   "outputs": [],
   "source": [
    "import pandas as pd\n",
    "import numpy as np\n",
    "import seaborn as sns\n",
    "import matplotlib.pyplot as plt\n",
    "\n",
    "from xgboost import XGBClassifier\n",
    "from datetime import datetime\n",
    "from sklearn.model_selection import train_test_split, cross_val_score, cross_validate\n",
    "from sklearn.metrics import confusion_matrix\n",
    "from sklearn.metrics import classification_report\n",
    "from sklearn.metrics import f1_score, roc_auc_score as ras, roc_curve, auc, accuracy_score\n",
    "\n",
    "\n"
   ]
  },
  {
   "cell_type": "code",
   "execution_count": 3,
   "metadata": {
    "id": "HD06n-8C6Xyg"
   },
   "outputs": [],
   "source": [
    "#To ignore warnings\n",
    "import warnings\n",
    "warnings.filterwarnings(\"ignore\")"
   ]
  },
  {
   "cell_type": "markdown",
   "metadata": {
    "id": "Wy8Ybvwm6Y_3"
   },
   "source": [
    "### **Loading Dataset - Train**"
   ]
  },
  {
   "cell_type": "code",
   "execution_count": 4,
   "metadata": {
    "id": "rqWE6zAK6dio"
   },
   "outputs": [],
   "source": [
    "train_df=pd.read_parquet(\"train.parquet\")"
   ]
  },
  {
   "cell_type": "markdown",
   "metadata": {
    "id": "bmzZOaPX83ex"
   },
   "source": [
    "### **Analysis of Data**"
   ]
  },
  {
   "cell_type": "code",
   "execution_count": 5,
   "metadata": {
    "colab": {
     "base_uri": "https://localhost:8080/"
    },
    "id": "y6oHn5lj85VA",
    "outputId": "ba4b0af8-0b2a-4d29-eec0-78d7f521e8b3"
   },
   "outputs": [
    {
     "name": "stdout",
     "output_type": "stream",
     "text": [
      "Train data set size :  (3220868, 3)\n"
     ]
    }
   ],
   "source": [
    "# Checking size of dataset\n",
    "print(\"Train data set size : \", train_df.shape)"
   ]
  },
  {
   "cell_type": "code",
   "execution_count": 6,
   "metadata": {
    "colab": {
     "base_uri": "https://localhost:8080/",
     "height": 206
    },
    "id": "JOc0Vyyx9ICK",
    "outputId": "973e3057-972f-4465-b4a1-29b6df63405c"
   },
   "outputs": [
    {
     "data": {
      "text/html": [
       "<div>\n",
       "<style scoped>\n",
       "    .dataframe tbody tr th:only-of-type {\n",
       "        vertical-align: middle;\n",
       "    }\n",
       "\n",
       "    .dataframe tbody tr th {\n",
       "        vertical-align: top;\n",
       "    }\n",
       "\n",
       "    .dataframe thead th {\n",
       "        text-align: right;\n",
       "    }\n",
       "</style>\n",
       "<table border=\"1\" class=\"dataframe\">\n",
       "  <thead>\n",
       "    <tr style=\"text-align: right;\">\n",
       "      <th></th>\n",
       "      <th>Patient-Uid</th>\n",
       "      <th>Date</th>\n",
       "      <th>Incident</th>\n",
       "    </tr>\n",
       "  </thead>\n",
       "  <tbody>\n",
       "    <tr>\n",
       "      <th>0</th>\n",
       "      <td>a0db1e73-1c7c-11ec-ae39-16262ee38c7f</td>\n",
       "      <td>2019-03-09</td>\n",
       "      <td>PRIMARY_DIAGNOSIS</td>\n",
       "    </tr>\n",
       "    <tr>\n",
       "      <th>1</th>\n",
       "      <td>a0dc93f2-1c7c-11ec-9cd2-16262ee38c7f</td>\n",
       "      <td>2015-05-16</td>\n",
       "      <td>PRIMARY_DIAGNOSIS</td>\n",
       "    </tr>\n",
       "    <tr>\n",
       "      <th>3</th>\n",
       "      <td>a0dc94c6-1c7c-11ec-a3a0-16262ee38c7f</td>\n",
       "      <td>2018-01-30</td>\n",
       "      <td>SYMPTOM_TYPE_0</td>\n",
       "    </tr>\n",
       "    <tr>\n",
       "      <th>4</th>\n",
       "      <td>a0dc950b-1c7c-11ec-b6ec-16262ee38c7f</td>\n",
       "      <td>2015-04-22</td>\n",
       "      <td>DRUG_TYPE_0</td>\n",
       "    </tr>\n",
       "    <tr>\n",
       "      <th>8</th>\n",
       "      <td>a0dc9543-1c7c-11ec-bb63-16262ee38c7f</td>\n",
       "      <td>2016-06-18</td>\n",
       "      <td>DRUG_TYPE_1</td>\n",
       "    </tr>\n",
       "  </tbody>\n",
       "</table>\n",
       "</div>"
      ],
      "text/plain": [
       "                            Patient-Uid       Date           Incident\n",
       "0  a0db1e73-1c7c-11ec-ae39-16262ee38c7f 2019-03-09  PRIMARY_DIAGNOSIS\n",
       "1  a0dc93f2-1c7c-11ec-9cd2-16262ee38c7f 2015-05-16  PRIMARY_DIAGNOSIS\n",
       "3  a0dc94c6-1c7c-11ec-a3a0-16262ee38c7f 2018-01-30     SYMPTOM_TYPE_0\n",
       "4  a0dc950b-1c7c-11ec-b6ec-16262ee38c7f 2015-04-22        DRUG_TYPE_0\n",
       "8  a0dc9543-1c7c-11ec-bb63-16262ee38c7f 2016-06-18        DRUG_TYPE_1"
      ]
     },
     "execution_count": 6,
     "metadata": {},
     "output_type": "execute_result"
    }
   ],
   "source": [
    "train_df.head()"
   ]
  },
  {
   "cell_type": "markdown",
   "metadata": {},
   "source": [
    "- Above Table represents a patient journey for patient \"a0db1e73-1c7c-11ec-ae39-16262ee38c7f\" The patient had a symptom of type 0 on 2018-01-30 and then This patient took drug of type 0 on 2015-04-2022, then again the patient took drug of type 1 on 2016-06-18 and so on"
   ]
  },
  {
   "cell_type": "code",
   "execution_count": 7,
   "metadata": {
    "colab": {
     "base_uri": "https://localhost:8080/"
    },
    "id": "scAZjIwA9W4q",
    "outputId": "fd6d7e8e-70a9-40d7-e9fe-d2285ee9922e"
   },
   "outputs": [
    {
     "data": {
      "text/plain": [
       "Index(['Patient-Uid', 'Date', 'Incident'], dtype='object')"
      ]
     },
     "execution_count": 7,
     "metadata": {},
     "output_type": "execute_result"
    }
   ],
   "source": [
    "train_df.columns"
   ]
  },
  {
   "cell_type": "code",
   "execution_count": 8,
   "metadata": {
    "colab": {
     "base_uri": "https://localhost:8080/",
     "height": 238
    },
    "id": "iS4oJJcD9bEw",
    "outputId": "d3905dac-59d7-4cb1-fae9-6e65b1dd4879"
   },
   "outputs": [
    {
     "data": {
      "text/html": [
       "<div>\n",
       "<style scoped>\n",
       "    .dataframe tbody tr th:only-of-type {\n",
       "        vertical-align: middle;\n",
       "    }\n",
       "\n",
       "    .dataframe tbody tr th {\n",
       "        vertical-align: top;\n",
       "    }\n",
       "\n",
       "    .dataframe thead th {\n",
       "        text-align: right;\n",
       "    }\n",
       "</style>\n",
       "<table border=\"1\" class=\"dataframe\">\n",
       "  <thead>\n",
       "    <tr style=\"text-align: right;\">\n",
       "      <th></th>\n",
       "      <th>Date</th>\n",
       "    </tr>\n",
       "  </thead>\n",
       "  <tbody>\n",
       "    <tr>\n",
       "      <th>count</th>\n",
       "      <td>3220868</td>\n",
       "    </tr>\n",
       "    <tr>\n",
       "      <th>mean</th>\n",
       "      <td>2018-02-24 18:27:44.495410944</td>\n",
       "    </tr>\n",
       "    <tr>\n",
       "      <th>min</th>\n",
       "      <td>2015-04-07 00:00:00</td>\n",
       "    </tr>\n",
       "    <tr>\n",
       "      <th>25%</th>\n",
       "      <td>2016-11-30 00:00:00</td>\n",
       "    </tr>\n",
       "    <tr>\n",
       "      <th>50%</th>\n",
       "      <td>2018-04-11 00:00:00</td>\n",
       "    </tr>\n",
       "    <tr>\n",
       "      <th>75%</th>\n",
       "      <td>2019-05-30 00:00:00</td>\n",
       "    </tr>\n",
       "    <tr>\n",
       "      <th>max</th>\n",
       "      <td>2020-09-03 00:00:00</td>\n",
       "    </tr>\n",
       "  </tbody>\n",
       "</table>\n",
       "</div>"
      ],
      "text/plain": [
       "                                Date\n",
       "count                        3220868\n",
       "mean   2018-02-24 18:27:44.495410944\n",
       "min              2015-04-07 00:00:00\n",
       "25%              2016-11-30 00:00:00\n",
       "50%              2018-04-11 00:00:00\n",
       "75%              2019-05-30 00:00:00\n",
       "max              2020-09-03 00:00:00"
      ]
     },
     "execution_count": 8,
     "metadata": {},
     "output_type": "execute_result"
    }
   ],
   "source": [
    "train_df.describe()"
   ]
  },
  {
   "cell_type": "code",
   "execution_count": 9,
   "metadata": {},
   "outputs": [
    {
     "name": "stdout",
     "output_type": "stream",
     "text": [
      "<class 'pandas.core.frame.DataFrame'>\n",
      "Index: 3220868 entries, 0 to 29080911\n",
      "Data columns (total 3 columns):\n",
      " #   Column       Dtype         \n",
      "---  ------       -----         \n",
      " 0   Patient-Uid  object        \n",
      " 1   Date         datetime64[ns]\n",
      " 2   Incident     object        \n",
      "dtypes: datetime64[ns](1), object(2)\n",
      "memory usage: 98.3+ MB\n"
     ]
    }
   ],
   "source": [
    "train_df.info()"
   ]
  },
  {
   "cell_type": "code",
   "execution_count": 10,
   "metadata": {},
   "outputs": [
    {
     "data": {
      "text/plain": [
       "(27033,)"
      ]
     },
     "execution_count": 10,
     "metadata": {},
     "output_type": "execute_result"
    }
   ],
   "source": [
    "counts = train_df['Patient-Uid'].value_counts()\n",
    "counts.shape"
   ]
  },
  {
   "cell_type": "code",
   "execution_count": 11,
   "metadata": {},
   "outputs": [
    {
     "data": {
      "text/plain": [
       "67218"
      ]
     },
     "execution_count": 11,
     "metadata": {},
     "output_type": "execute_result"
    }
   ],
   "source": [
    "counts = train_df['Incident'].value_counts()['TARGET DRUG']\n",
    "counts"
   ]
  },
  {
   "cell_type": "markdown",
   "metadata": {},
   "source": [
    "- There are total 27,033 unique patients present in train.\n",
    "There is also drug called ‘Target Drug”, this drug is of interest for the assignment, there are total 9K patients in train.parquet who have taken “Target Drug” atleast once."
   ]
  },
  {
   "cell_type": "code",
   "execution_count": 12,
   "metadata": {},
   "outputs": [
    {
     "data": {
      "text/plain": [
       "(57,)"
      ]
     },
     "execution_count": 12,
     "metadata": {},
     "output_type": "execute_result"
    }
   ],
   "source": [
    "counts = train_df['Incident'].value_counts()\n",
    "counts.shape"
   ]
  },
  {
   "cell_type": "markdown",
   "metadata": {
    "id": "ikcbxE1l-NWo"
   },
   "source": [
    "# Data Preprocessing"
   ]
  },
  {
   "cell_type": "markdown",
   "metadata": {
    "id": "XCTl2Efc-PGo"
   },
   "source": [
    "## Data Cleaning\n",
    "\n",
    "- Data cleaning is the process of identifying and correcting or removing errors, inconsistencies, and inaccuracies in a dataset to improve its quality and ensure that it is ready for analysis. It involves tasks such as handling missing or duplicate data, correcting data types, and removing outliers or irrelevant information."
   ]
  },
  {
   "cell_type": "markdown",
   "metadata": {
    "id": "JwyXHZg9-W_H"
   },
   "source": [
    "### Missing Values"
   ]
  },
  {
   "cell_type": "code",
   "execution_count": 13,
   "metadata": {
    "colab": {
     "base_uri": "https://localhost:8080/"
    },
    "id": "BNn62xds-Z_Y",
    "outputId": "1b462fa6-bde1-4fad-eb58-f782bd88f2aa"
   },
   "outputs": [
    {
     "data": {
      "text/plain": [
       "Patient-Uid    0\n",
       "Date           0\n",
       "Incident       0\n",
       "dtype: int64"
      ]
     },
     "execution_count": 13,
     "metadata": {},
     "output_type": "execute_result"
    }
   ],
   "source": [
    "#checking for null values\n",
    "train_df.isnull().sum()"
   ]
  },
  {
   "cell_type": "markdown",
   "metadata": {
    "id": "VcC6J4R1-p_J"
   },
   "source": [
    "### Finding Duplicate Values"
   ]
  },
  {
   "cell_type": "code",
   "execution_count": 14,
   "metadata": {
    "colab": {
     "base_uri": "https://localhost:8080/"
    },
    "id": "Tj2APYjM-tk_",
    "outputId": "d7da271d-0fbc-4019-df36-da8582a80326"
   },
   "outputs": [
    {
     "data": {
      "text/plain": [
       "35571"
      ]
     },
     "execution_count": 14,
     "metadata": {},
     "output_type": "execute_result"
    }
   ],
   "source": [
    "#checking for no of duplicate values\n",
    "train_df.duplicated().sum()"
   ]
  },
  {
   "cell_type": "markdown",
   "metadata": {
    "id": "mC_fz4t9-0og"
   },
   "source": [
    "- We can clearly understand 35571 values are duplicate. There is no use of duplicate values so we will delete all duplicate values."
   ]
  },
  {
   "cell_type": "code",
   "execution_count": 15,
   "metadata": {
    "id": "Gv-lHdUB_EIX"
   },
   "outputs": [],
   "source": [
    "#droping duplicates\n",
    "train_df = train_df.drop_duplicates()"
   ]
  },
  {
   "cell_type": "code",
   "execution_count": 16,
   "metadata": {
    "colab": {
     "base_uri": "https://localhost:8080/"
    },
    "id": "IrkUllOi_H23",
    "outputId": "d8bd95de-48e2-4c29-b948-a320cbfe0eaf"
   },
   "outputs": [
    {
     "data": {
      "text/plain": [
       "0"
      ]
     },
     "execution_count": 16,
     "metadata": {},
     "output_type": "execute_result"
    }
   ],
   "source": [
    "#after droping again check for no of duplicates\n",
    "train_df.duplicated().sum()"
   ]
  },
  {
   "cell_type": "markdown",
   "metadata": {
    "id": "4ctTM-cz_hnw"
   },
   "source": [
    "## Checking Data Type"
   ]
  },
  {
   "cell_type": "code",
   "execution_count": 17,
   "metadata": {
    "colab": {
     "base_uri": "https://localhost:8080/"
    },
    "id": "sj5oD-ET_kiP",
    "outputId": "6d622081-7961-41c1-bf6d-0cfe3a133d1b"
   },
   "outputs": [
    {
     "data": {
      "text/plain": [
       "Patient-Uid            object\n",
       "Date           datetime64[ns]\n",
       "Incident               object\n",
       "dtype: object"
      ]
     },
     "execution_count": 17,
     "metadata": {},
     "output_type": "execute_result"
    }
   ],
   "source": [
    "train_df.dtypes"
   ]
  },
  {
   "cell_type": "markdown",
   "metadata": {
    "id": "4F-5iuFY_8WA"
   },
   "source": [
    "## Unique Values of Incident Column"
   ]
  },
  {
   "cell_type": "code",
   "execution_count": 18,
   "metadata": {
    "colab": {
     "base_uri": "https://localhost:8080/"
    },
    "id": "4qu7wGyv_5hB",
    "outputId": "f7408220-198d-44ca-83a8-149d6d38ceeb"
   },
   "outputs": [
    {
     "name": "stdout",
     "output_type": "stream",
     "text": [
      "Unique values of Incident \n",
      "\n",
      "['PRIMARY_DIAGNOSIS' 'SYMPTOM_TYPE_0' 'DRUG_TYPE_0' 'DRUG_TYPE_1'\n",
      " 'DRUG_TYPE_2' 'TEST_TYPE_0' 'DRUG_TYPE_3' 'DRUG_TYPE_4' 'DRUG_TYPE_5'\n",
      " 'DRUG_TYPE_6' 'DRUG_TYPE_8' 'DRUG_TYPE_7' 'SYMPTOM_TYPE_1' 'DRUG_TYPE_10'\n",
      " 'SYMPTOM_TYPE_29' 'SYMPTOM_TYPE_2' 'DRUG_TYPE_11' 'DRUG_TYPE_9'\n",
      " 'DRUG_TYPE_13' 'SYMPTOM_TYPE_5' 'TEST_TYPE_1' 'SYMPTOM_TYPE_6'\n",
      " 'TEST_TYPE_2' 'SYMPTOM_TYPE_3' 'SYMPTOM_TYPE_8' 'DRUG_TYPE_14'\n",
      " 'DRUG_TYPE_12' 'SYMPTOM_TYPE_9' 'SYMPTOM_TYPE_10' 'SYMPTOM_TYPE_7'\n",
      " 'SYMPTOM_TYPE_11' 'TEST_TYPE_3' 'DRUG_TYPE_15' 'SYMPTOM_TYPE_4'\n",
      " 'SYMPTOM_TYPE_14' 'SYMPTOM_TYPE_13' 'SYMPTOM_TYPE_16' 'SYMPTOM_TYPE_17'\n",
      " 'SYMPTOM_TYPE_15' 'SYMPTOM_TYPE_18' 'SYMPTOM_TYPE_12' 'SYMPTOM_TYPE_20'\n",
      " 'SYMPTOM_TYPE_21' 'DRUG_TYPE_17' 'SYMPTOM_TYPE_22' 'TEST_TYPE_4'\n",
      " 'SYMPTOM_TYPE_23' 'DRUG_TYPE_16' 'TEST_TYPE_5' 'SYMPTOM_TYPE_19'\n",
      " 'SYMPTOM_TYPE_24' 'SYMPTOM_TYPE_25' 'SYMPTOM_TYPE_26' 'SYMPTOM_TYPE_27'\n",
      " 'DRUG_TYPE_18' 'SYMPTOM_TYPE_28' 'TARGET DRUG']\n"
     ]
    }
   ],
   "source": [
    "print(\"Unique values of Incident \\n\")\n",
    "print(train_df['Incident'].unique())"
   ]
  },
  {
   "cell_type": "code",
   "execution_count": 19,
   "metadata": {
    "id": "UAfeVjrmAphA"
   },
   "outputs": [
    {
     "name": "stdout",
     "output_type": "stream",
     "text": [
      "Index(['DRUG_TYPE_6', 'DRUG_TYPE_1', 'PRIMARY_DIAGNOSIS', 'DRUG_TYPE_0',\n",
      "       'DRUG_TYPE_7', 'DRUG_TYPE_2', 'DRUG_TYPE_8', 'DRUG_TYPE_3',\n",
      "       'TEST_TYPE_1', 'TARGET DRUG', 'DRUG_TYPE_9', 'DRUG_TYPE_5',\n",
      "       'DRUG_TYPE_11', 'SYMPTOM_TYPE_0', 'SYMPTOM_TYPE_6', 'TEST_TYPE_0',\n",
      "       'SYMPTOM_TYPE_7', 'DRUG_TYPE_10', 'DRUG_TYPE_14', 'DRUG_TYPE_13',\n",
      "       'DRUG_TYPE_12', 'SYMPTOM_TYPE_14', 'SYMPTOM_TYPE_1', 'SYMPTOM_TYPE_2',\n",
      "       'TEST_TYPE_3', 'SYMPTOM_TYPE_5', 'SYMPTOM_TYPE_8', 'TEST_TYPE_2',\n",
      "       'SYMPTOM_TYPE_15', 'SYMPTOM_TYPE_10', 'SYMPTOM_TYPE_29',\n",
      "       'SYMPTOM_TYPE_16', 'DRUG_TYPE_15', 'SYMPTOM_TYPE_9', 'DRUG_TYPE_4',\n",
      "       'SYMPTOM_TYPE_4', 'SYMPTOM_TYPE_3', 'SYMPTOM_TYPE_12',\n",
      "       'SYMPTOM_TYPE_11', 'SYMPTOM_TYPE_17', 'SYMPTOM_TYPE_13', 'DRUG_TYPE_16',\n",
      "       'TEST_TYPE_4', 'SYMPTOM_TYPE_18', 'SYMPTOM_TYPE_21', 'SYMPTOM_TYPE_22',\n",
      "       'SYMPTOM_TYPE_19', 'DRUG_TYPE_17', 'TEST_TYPE_5', 'SYMPTOM_TYPE_24',\n",
      "       'SYMPTOM_TYPE_26', 'SYMPTOM_TYPE_23', 'SYMPTOM_TYPE_20',\n",
      "       'SYMPTOM_TYPE_27', 'SYMPTOM_TYPE_25', 'SYMPTOM_TYPE_28',\n",
      "       'DRUG_TYPE_18'],\n",
      "      dtype='object', name='Incident')\n"
     ]
    }
   ],
   "source": [
    "train_indexes= counts.index\n",
    "print(train_indexes)"
   ]
  },
  {
   "cell_type": "markdown",
   "metadata": {
    "id": "LlyTXyEeA_K_"
   },
   "source": [
    "### **Exploring the Dataset**"
   ]
  },
  {
   "cell_type": "code",
   "execution_count": 20,
   "metadata": {
    "colab": {
     "base_uri": "https://localhost:8080/"
    },
    "id": "LlYi3cF6BJKn",
    "outputId": "c6cb1a47-450b-4178-fb88-4be9b76ebdcf"
   },
   "outputs": [
    {
     "data": {
      "text/plain": [
       "Incident\n",
       "DRUG_TYPE_6          549616\n",
       "DRUG_TYPE_1          484565\n",
       "PRIMARY_DIAGNOSIS    424879\n",
       "DRUG_TYPE_0          298881\n",
       "DRUG_TYPE_2          256203\n",
       "DRUG_TYPE_7          251239\n",
       "DRUG_TYPE_8          158706\n",
       "DRUG_TYPE_3          126615\n",
       "TEST_TYPE_1           96810\n",
       "TARGET DRUG           67218\n",
       "DRUG_TYPE_9           66894\n",
       "DRUG_TYPE_5           55940\n",
       "SYMPTOM_TYPE_0        46078\n",
       "DRUG_TYPE_11          45419\n",
       "SYMPTOM_TYPE_6        32066\n",
       "TEST_TYPE_0           27570\n",
       "SYMPTOM_TYPE_7        22019\n",
       "DRUG_TYPE_10          20911\n",
       "DRUG_TYPE_14          17306\n",
       "DRUG_TYPE_13          12321\n",
       "DRUG_TYPE_12           9540\n",
       "SYMPTOM_TYPE_14        8927\n",
       "SYMPTOM_TYPE_1         8608\n",
       "SYMPTOM_TYPE_2         8168\n",
       "TEST_TYPE_3            8115\n",
       "SYMPTOM_TYPE_5         7583\n",
       "SYMPTOM_TYPE_8         7430\n",
       "TEST_TYPE_2            7021\n",
       "SYMPTOM_TYPE_15        6295\n",
       "SYMPTOM_TYPE_10        6005\n",
       "SYMPTOM_TYPE_29        5910\n",
       "SYMPTOM_TYPE_16        4940\n",
       "DRUG_TYPE_15           4906\n",
       "SYMPTOM_TYPE_9         4885\n",
       "DRUG_TYPE_4            4566\n",
       "SYMPTOM_TYPE_4         4115\n",
       "SYMPTOM_TYPE_3         3931\n",
       "SYMPTOM_TYPE_12        2685\n",
       "SYMPTOM_TYPE_11        2483\n",
       "SYMPTOM_TYPE_17        2090\n",
       "SYMPTOM_TYPE_13        1541\n",
       "DRUG_TYPE_16           1127\n",
       "TEST_TYPE_4            1108\n",
       "SYMPTOM_TYPE_18         530\n",
       "SYMPTOM_TYPE_21         363\n",
       "SYMPTOM_TYPE_22         285\n",
       "SYMPTOM_TYPE_19         219\n",
       "DRUG_TYPE_17            214\n",
       "TEST_TYPE_5             137\n",
       "SYMPTOM_TYPE_24          97\n",
       "SYMPTOM_TYPE_26          63\n",
       "SYMPTOM_TYPE_23          54\n",
       "SYMPTOM_TYPE_20          53\n",
       "SYMPTOM_TYPE_27          21\n",
       "SYMPTOM_TYPE_25          18\n",
       "SYMPTOM_TYPE_28           7\n",
       "DRUG_TYPE_18              1\n",
       "Name: count, dtype: int64"
      ]
     },
     "execution_count": 20,
     "metadata": {},
     "output_type": "execute_result"
    }
   ],
   "source": [
    "#no of counts for particular Incident\n",
    "train_df.Incident.value_counts()"
   ]
  },
  {
   "cell_type": "code",
   "execution_count": 21,
   "metadata": {
    "colab": {
     "base_uri": "https://localhost:8080/"
    },
    "id": "-r5K-OF0B2yX",
    "outputId": "8169e60c-6e43-4952-c032-1c61d3a62df3"
   },
   "outputs": [
    {
     "data": {
      "text/plain": [
       "Date\n",
       "2019-05-21    3645\n",
       "2019-05-22    3330\n",
       "2019-03-05    3156\n",
       "2019-05-14    3134\n",
       "2019-03-12    2986\n",
       "              ... \n",
       "2017-01-27     308\n",
       "2017-02-28     285\n",
       "2020-02-29     282\n",
       "2016-01-29     271\n",
       "2016-02-29     255\n",
       "Name: count, Length: 1977, dtype: int64"
      ]
     },
     "execution_count": 21,
     "metadata": {},
     "output_type": "execute_result"
    }
   ],
   "source": [
    "#no of counts for particular Date\n",
    "train_df.Date.value_counts()"
   ]
  },
  {
   "cell_type": "code",
   "execution_count": 22,
   "metadata": {
    "colab": {
     "base_uri": "https://localhost:8080/",
     "height": 206
    },
    "id": "nLE4phZsirZI",
    "outputId": "ab83b79f-1a8f-40ba-84eb-c28d51f4eeef"
   },
   "outputs": [
    {
     "data": {
      "text/html": [
       "<div>\n",
       "<style scoped>\n",
       "    .dataframe tbody tr th:only-of-type {\n",
       "        vertical-align: middle;\n",
       "    }\n",
       "\n",
       "    .dataframe tbody tr th {\n",
       "        vertical-align: top;\n",
       "    }\n",
       "\n",
       "    .dataframe thead th {\n",
       "        text-align: right;\n",
       "    }\n",
       "</style>\n",
       "<table border=\"1\" class=\"dataframe\">\n",
       "  <thead>\n",
       "    <tr style=\"text-align: right;\">\n",
       "      <th></th>\n",
       "      <th>Patient-Uid</th>\n",
       "      <th>Date</th>\n",
       "      <th>Incident</th>\n",
       "    </tr>\n",
       "  </thead>\n",
       "  <tbody>\n",
       "    <tr>\n",
       "      <th>3294791</th>\n",
       "      <td>a0eb742b-1c7c-11ec-8f61-16262ee38c7f</td>\n",
       "      <td>2020-04-09</td>\n",
       "      <td>TARGET DRUG</td>\n",
       "    </tr>\n",
       "    <tr>\n",
       "      <th>3296990</th>\n",
       "      <td>a0edaf09-1c7c-11ec-a360-16262ee38c7f</td>\n",
       "      <td>2018-06-12</td>\n",
       "      <td>TARGET DRUG</td>\n",
       "    </tr>\n",
       "    <tr>\n",
       "      <th>3305387</th>\n",
       "      <td>a0e9fa0e-1c7c-11ec-8dc7-16262ee38c7f</td>\n",
       "      <td>2019-06-11</td>\n",
       "      <td>TARGET DRUG</td>\n",
       "    </tr>\n",
       "    <tr>\n",
       "      <th>3309423</th>\n",
       "      <td>a0ecc615-1c7c-11ec-aa31-16262ee38c7f</td>\n",
       "      <td>2019-11-15</td>\n",
       "      <td>TARGET DRUG</td>\n",
       "    </tr>\n",
       "    <tr>\n",
       "      <th>3309494</th>\n",
       "      <td>a0ea612f-1c7c-11ec-8cf0-16262ee38c7f</td>\n",
       "      <td>2020-03-18</td>\n",
       "      <td>TARGET DRUG</td>\n",
       "    </tr>\n",
       "  </tbody>\n",
       "</table>\n",
       "</div>"
      ],
      "text/plain": [
       "                                  Patient-Uid       Date     Incident\n",
       "3294791  a0eb742b-1c7c-11ec-8f61-16262ee38c7f 2020-04-09  TARGET DRUG\n",
       "3296990  a0edaf09-1c7c-11ec-a360-16262ee38c7f 2018-06-12  TARGET DRUG\n",
       "3305387  a0e9fa0e-1c7c-11ec-8dc7-16262ee38c7f 2019-06-11  TARGET DRUG\n",
       "3309423  a0ecc615-1c7c-11ec-aa31-16262ee38c7f 2019-11-15  TARGET DRUG\n",
       "3309494  a0ea612f-1c7c-11ec-8cf0-16262ee38c7f 2020-03-18  TARGET DRUG"
      ]
     },
     "execution_count": 22,
     "metadata": {},
     "output_type": "execute_result"
    }
   ],
   "source": [
    "# generating positive set\n",
    "positive_df = train_df[train_df['Incident']=='TARGET DRUG']\n",
    "positive_df.head()"
   ]
  },
  {
   "cell_type": "code",
   "execution_count": 23,
   "metadata": {
    "colab": {
     "base_uri": "https://localhost:8080/"
    },
    "id": "eankWyO3i0eQ",
    "outputId": "e5b22329-b9af-4860-d7c9-e0b1fc1fbe3b"
   },
   "outputs": [
    {
     "data": {
      "text/plain": [
       "(67218, 3)"
      ]
     },
     "execution_count": 23,
     "metadata": {},
     "output_type": "execute_result"
    }
   ],
   "source": [
    "# shape of positive set\n",
    "positive_df.shape"
   ]
  },
  {
   "cell_type": "code",
   "execution_count": 24,
   "metadata": {
    "colab": {
     "base_uri": "https://localhost:8080/",
     "height": 424
    },
    "id": "ItbxNI-Ki5TR",
    "outputId": "01154c84-587c-4b39-8133-9229e4b2f1d6"
   },
   "outputs": [
    {
     "data": {
      "text/html": [
       "<div>\n",
       "<style scoped>\n",
       "    .dataframe tbody tr th:only-of-type {\n",
       "        vertical-align: middle;\n",
       "    }\n",
       "\n",
       "    .dataframe tbody tr th {\n",
       "        vertical-align: top;\n",
       "    }\n",
       "\n",
       "    .dataframe thead th {\n",
       "        text-align: right;\n",
       "    }\n",
       "</style>\n",
       "<table border=\"1\" class=\"dataframe\">\n",
       "  <thead>\n",
       "    <tr style=\"text-align: right;\">\n",
       "      <th></th>\n",
       "      <th>Patient-Uid</th>\n",
       "      <th>Date</th>\n",
       "      <th>Incident</th>\n",
       "    </tr>\n",
       "  </thead>\n",
       "  <tbody>\n",
       "    <tr>\n",
       "      <th>1560892</th>\n",
       "      <td>a0e3a8c0-1c7c-11ec-98c2-16262ee38c7f</td>\n",
       "      <td>2018-05-06</td>\n",
       "      <td>PRIMARY_DIAGNOSIS</td>\n",
       "    </tr>\n",
       "    <tr>\n",
       "      <th>1620903</th>\n",
       "      <td>a0dd6a3f-1c7c-11ec-9b86-16262ee38c7f</td>\n",
       "      <td>2015-04-07</td>\n",
       "      <td>SYMPTOM_TYPE_0</td>\n",
       "    </tr>\n",
       "    <tr>\n",
       "      <th>1629044</th>\n",
       "      <td>a0e48a75-1c7c-11ec-8c5f-16262ee38c7f</td>\n",
       "      <td>2018-08-22</td>\n",
       "      <td>DRUG_TYPE_6</td>\n",
       "    </tr>\n",
       "    <tr>\n",
       "      <th>1942882</th>\n",
       "      <td>a0e3cf61-1c7c-11ec-8098-16262ee38c7f</td>\n",
       "      <td>2018-08-21</td>\n",
       "      <td>DRUG_TYPE_2</td>\n",
       "    </tr>\n",
       "    <tr>\n",
       "      <th>1975541</th>\n",
       "      <td>a0e91a8c-1c7c-11ec-acc2-16262ee38c7f</td>\n",
       "      <td>2020-04-15</td>\n",
       "      <td>PRIMARY_DIAGNOSIS</td>\n",
       "    </tr>\n",
       "    <tr>\n",
       "      <th>...</th>\n",
       "      <td>...</td>\n",
       "      <td>...</td>\n",
       "      <td>...</td>\n",
       "    </tr>\n",
       "    <tr>\n",
       "      <th>3256795</th>\n",
       "      <td>a0e045a1-1c7c-11ec-8014-16262ee38c7f</td>\n",
       "      <td>2020-07-10</td>\n",
       "      <td>PRIMARY_DIAGNOSIS</td>\n",
       "    </tr>\n",
       "    <tr>\n",
       "      <th>3256799</th>\n",
       "      <td>a0e67e2a-1c7c-11ec-b805-16262ee38c7f</td>\n",
       "      <td>2015-12-16</td>\n",
       "      <td>PRIMARY_DIAGNOSIS</td>\n",
       "    </tr>\n",
       "    <tr>\n",
       "      <th>3256800</th>\n",
       "      <td>a0dec400-1c7c-11ec-80df-16262ee38c7f</td>\n",
       "      <td>2019-08-06</td>\n",
       "      <td>PRIMARY_DIAGNOSIS</td>\n",
       "    </tr>\n",
       "    <tr>\n",
       "      <th>3256804</th>\n",
       "      <td>a0e09919-1c7c-11ec-9e7d-16262ee38c7f</td>\n",
       "      <td>2017-02-19</td>\n",
       "      <td>DRUG_TYPE_6</td>\n",
       "    </tr>\n",
       "    <tr>\n",
       "      <th>3256805</th>\n",
       "      <td>a0e69331-1c7c-11ec-a98d-16262ee38c7f</td>\n",
       "      <td>2015-10-03</td>\n",
       "      <td>DRUG_TYPE_6</td>\n",
       "    </tr>\n",
       "  </tbody>\n",
       "</table>\n",
       "<p>17659 rows × 3 columns</p>\n",
       "</div>"
      ],
      "text/plain": [
       "                                  Patient-Uid       Date           Incident\n",
       "1560892  a0e3a8c0-1c7c-11ec-98c2-16262ee38c7f 2018-05-06  PRIMARY_DIAGNOSIS\n",
       "1620903  a0dd6a3f-1c7c-11ec-9b86-16262ee38c7f 2015-04-07     SYMPTOM_TYPE_0\n",
       "1629044  a0e48a75-1c7c-11ec-8c5f-16262ee38c7f 2018-08-22        DRUG_TYPE_6\n",
       "1942882  a0e3cf61-1c7c-11ec-8098-16262ee38c7f 2018-08-21        DRUG_TYPE_2\n",
       "1975541  a0e91a8c-1c7c-11ec-acc2-16262ee38c7f 2020-04-15  PRIMARY_DIAGNOSIS\n",
       "...                                       ...        ...                ...\n",
       "3256795  a0e045a1-1c7c-11ec-8014-16262ee38c7f 2020-07-10  PRIMARY_DIAGNOSIS\n",
       "3256799  a0e67e2a-1c7c-11ec-b805-16262ee38c7f 2015-12-16  PRIMARY_DIAGNOSIS\n",
       "3256800  a0dec400-1c7c-11ec-80df-16262ee38c7f 2019-08-06  PRIMARY_DIAGNOSIS\n",
       "3256804  a0e09919-1c7c-11ec-9e7d-16262ee38c7f 2017-02-19        DRUG_TYPE_6\n",
       "3256805  a0e69331-1c7c-11ec-a98d-16262ee38c7f 2015-10-03        DRUG_TYPE_6\n",
       "\n",
       "[17659 rows x 3 columns]"
      ]
     },
     "execution_count": 24,
     "metadata": {},
     "output_type": "execute_result"
    }
   ],
   "source": [
    "negative =  train_df[~train_df['Patient-Uid'].isin(positive_df['Patient-Uid'])]\n",
    "negative_df = negative.groupby('Patient-Uid').tail(1)\n",
    "negative_df"
   ]
  },
  {
   "cell_type": "code",
   "execution_count": 25,
   "metadata": {
    "colab": {
     "base_uri": "https://localhost:8080/"
    },
    "id": "yxcKEIKii-7P",
    "outputId": "f509d9e1-6d4d-4199-d98d-f819358d30c0"
   },
   "outputs": [
    {
     "data": {
      "text/plain": [
       "(17659, 3)"
      ]
     },
     "execution_count": 25,
     "metadata": {},
     "output_type": "execute_result"
    }
   ],
   "source": [
    "# shape of negative set\n",
    "negative_df.shape"
   ]
  },
  {
   "cell_type": "code",
   "execution_count": 26,
   "metadata": {
    "colab": {
     "base_uri": "https://localhost:8080/",
     "height": 206
    },
    "id": "XjlXy9d1jDDx",
    "outputId": "8cf1267c-07b2-4dc2-f539-15f996d7ca2e"
   },
   "outputs": [
    {
     "data": {
      "text/html": [
       "<div>\n",
       "<style scoped>\n",
       "    .dataframe tbody tr th:only-of-type {\n",
       "        vertical-align: middle;\n",
       "    }\n",
       "\n",
       "    .dataframe tbody tr th {\n",
       "        vertical-align: top;\n",
       "    }\n",
       "\n",
       "    .dataframe thead th {\n",
       "        text-align: right;\n",
       "    }\n",
       "</style>\n",
       "<table border=\"1\" class=\"dataframe\">\n",
       "  <thead>\n",
       "    <tr style=\"text-align: right;\">\n",
       "      <th></th>\n",
       "      <th>Patient-Uid</th>\n",
       "      <th>Date</th>\n",
       "      <th>Incident</th>\n",
       "      <th>Prescription_Count</th>\n",
       "    </tr>\n",
       "  </thead>\n",
       "  <tbody>\n",
       "    <tr>\n",
       "      <th>29074998</th>\n",
       "      <td>a0ef2b6d-1c7c-11ec-9172-16262ee38c7f</td>\n",
       "      <td>2018-10-12</td>\n",
       "      <td>TARGET DRUG</td>\n",
       "      <td>4</td>\n",
       "    </tr>\n",
       "    <tr>\n",
       "      <th>29075105</th>\n",
       "      <td>a0ebe423-1c7c-11ec-a5e0-16262ee38c7f</td>\n",
       "      <td>2019-07-02</td>\n",
       "      <td>TARGET DRUG</td>\n",
       "      <td>9</td>\n",
       "    </tr>\n",
       "    <tr>\n",
       "      <th>29075494</th>\n",
       "      <td>a0ebc713-1c7c-11ec-bd53-16262ee38c7f</td>\n",
       "      <td>2019-05-21</td>\n",
       "      <td>TARGET DRUG</td>\n",
       "      <td>10</td>\n",
       "    </tr>\n",
       "    <tr>\n",
       "      <th>29080031</th>\n",
       "      <td>a0ee1bdb-1c7c-11ec-90ba-16262ee38c7f</td>\n",
       "      <td>2018-06-07</td>\n",
       "      <td>TARGET DRUG</td>\n",
       "      <td>14</td>\n",
       "    </tr>\n",
       "    <tr>\n",
       "      <th>29080178</th>\n",
       "      <td>a0eef180-1c7c-11ec-8de8-16262ee38c7f</td>\n",
       "      <td>2018-07-17</td>\n",
       "      <td>TARGET DRUG</td>\n",
       "      <td>13</td>\n",
       "    </tr>\n",
       "  </tbody>\n",
       "</table>\n",
       "</div>"
      ],
      "text/plain": [
       "                                   Patient-Uid       Date     Incident   \n",
       "29074998  a0ef2b6d-1c7c-11ec-9172-16262ee38c7f 2018-10-12  TARGET DRUG  \\\n",
       "29075105  a0ebe423-1c7c-11ec-a5e0-16262ee38c7f 2019-07-02  TARGET DRUG   \n",
       "29075494  a0ebc713-1c7c-11ec-bd53-16262ee38c7f 2019-05-21  TARGET DRUG   \n",
       "29080031  a0ee1bdb-1c7c-11ec-90ba-16262ee38c7f 2018-06-07  TARGET DRUG   \n",
       "29080178  a0eef180-1c7c-11ec-8de8-16262ee38c7f 2018-07-17  TARGET DRUG   \n",
       "\n",
       "          Prescription_Count  \n",
       "29074998                   4  \n",
       "29075105                   9  \n",
       "29075494                  10  \n",
       "29080031                  14  \n",
       "29080178                  13  "
      ]
     },
     "execution_count": 26,
     "metadata": {},
     "output_type": "execute_result"
    }
   ],
   "source": [
    "# to get the count of previous prescriptions within specific time intervals\n",
    "positive_df['Prescription_Count'] = positive_df.groupby('Patient-Uid')['Date'].cumcount()\n",
    "negative_df['Prescription_Count'] = negative_df.groupby('Patient-Uid')['Date'].cumcount()\n",
    "positive_df.tail(5)"
   ]
  },
  {
   "cell_type": "code",
   "execution_count": 27,
   "metadata": {
    "colab": {
     "base_uri": "https://localhost:8080/",
     "height": 206
    },
    "id": "OLEdswjUjJF7",
    "outputId": "fcf3c4a7-021e-4963-be6a-ed8385e7b6fa"
   },
   "outputs": [
    {
     "data": {
      "text/html": [
       "<div>\n",
       "<style scoped>\n",
       "    .dataframe tbody tr th:only-of-type {\n",
       "        vertical-align: middle;\n",
       "    }\n",
       "\n",
       "    .dataframe tbody tr th {\n",
       "        vertical-align: top;\n",
       "    }\n",
       "\n",
       "    .dataframe thead th {\n",
       "        text-align: right;\n",
       "    }\n",
       "</style>\n",
       "<table border=\"1\" class=\"dataframe\">\n",
       "  <thead>\n",
       "    <tr style=\"text-align: right;\">\n",
       "      <th></th>\n",
       "      <th>Patient-Uid</th>\n",
       "      <th>Date</th>\n",
       "      <th>Incident</th>\n",
       "      <th>Prescription_Count</th>\n",
       "    </tr>\n",
       "  </thead>\n",
       "  <tbody>\n",
       "    <tr>\n",
       "      <th>3256795</th>\n",
       "      <td>a0e045a1-1c7c-11ec-8014-16262ee38c7f</td>\n",
       "      <td>2020-07-10</td>\n",
       "      <td>PRIMARY_DIAGNOSIS</td>\n",
       "      <td>0</td>\n",
       "    </tr>\n",
       "    <tr>\n",
       "      <th>3256799</th>\n",
       "      <td>a0e67e2a-1c7c-11ec-b805-16262ee38c7f</td>\n",
       "      <td>2015-12-16</td>\n",
       "      <td>PRIMARY_DIAGNOSIS</td>\n",
       "      <td>0</td>\n",
       "    </tr>\n",
       "    <tr>\n",
       "      <th>3256800</th>\n",
       "      <td>a0dec400-1c7c-11ec-80df-16262ee38c7f</td>\n",
       "      <td>2019-08-06</td>\n",
       "      <td>PRIMARY_DIAGNOSIS</td>\n",
       "      <td>0</td>\n",
       "    </tr>\n",
       "    <tr>\n",
       "      <th>3256804</th>\n",
       "      <td>a0e09919-1c7c-11ec-9e7d-16262ee38c7f</td>\n",
       "      <td>2017-02-19</td>\n",
       "      <td>DRUG_TYPE_6</td>\n",
       "      <td>0</td>\n",
       "    </tr>\n",
       "    <tr>\n",
       "      <th>3256805</th>\n",
       "      <td>a0e69331-1c7c-11ec-a98d-16262ee38c7f</td>\n",
       "      <td>2015-10-03</td>\n",
       "      <td>DRUG_TYPE_6</td>\n",
       "      <td>0</td>\n",
       "    </tr>\n",
       "  </tbody>\n",
       "</table>\n",
       "</div>"
      ],
      "text/plain": [
       "                                  Patient-Uid       Date           Incident   \n",
       "3256795  a0e045a1-1c7c-11ec-8014-16262ee38c7f 2020-07-10  PRIMARY_DIAGNOSIS  \\\n",
       "3256799  a0e67e2a-1c7c-11ec-b805-16262ee38c7f 2015-12-16  PRIMARY_DIAGNOSIS   \n",
       "3256800  a0dec400-1c7c-11ec-80df-16262ee38c7f 2019-08-06  PRIMARY_DIAGNOSIS   \n",
       "3256804  a0e09919-1c7c-11ec-9e7d-16262ee38c7f 2017-02-19        DRUG_TYPE_6   \n",
       "3256805  a0e69331-1c7c-11ec-a98d-16262ee38c7f 2015-10-03        DRUG_TYPE_6   \n",
       "\n",
       "         Prescription_Count  \n",
       "3256795                   0  \n",
       "3256799                   0  \n",
       "3256800                   0  \n",
       "3256804                   0  \n",
       "3256805                   0  "
      ]
     },
     "execution_count": 27,
     "metadata": {},
     "output_type": "execute_result"
    }
   ],
   "source": [
    "negative_df.tail(5)"
   ]
  },
  {
   "cell_type": "code",
   "execution_count": 28,
   "metadata": {
    "id": "nN2KYuFhjPgp"
   },
   "outputs": [],
   "source": [
    "# to get the difference between the most recent prescription and the prediction date.\n",
    "prediction_date = pd.to_datetime('today') + pd.DateOffset(days=30)\n",
    "positive_df['Time_diff'] = (prediction_date - positive_df.groupby('Patient-Uid')['Date'].transform('max')).dt.days\n",
    "negative_df['Time_diff'] = (prediction_date - negative_df.groupby('Patient-Uid')['Date'].transform('max')).dt.days"
   ]
  },
  {
   "cell_type": "code",
   "execution_count": 29,
   "metadata": {
    "colab": {
     "base_uri": "https://localhost:8080/",
     "height": 206
    },
    "id": "e34SbIv_jTSR",
    "outputId": "06685939-ca4c-4e34-bb01-4aacc344d59b"
   },
   "outputs": [
    {
     "data": {
      "text/html": [
       "<div>\n",
       "<style scoped>\n",
       "    .dataframe tbody tr th:only-of-type {\n",
       "        vertical-align: middle;\n",
       "    }\n",
       "\n",
       "    .dataframe tbody tr th {\n",
       "        vertical-align: top;\n",
       "    }\n",
       "\n",
       "    .dataframe thead th {\n",
       "        text-align: right;\n",
       "    }\n",
       "</style>\n",
       "<table border=\"1\" class=\"dataframe\">\n",
       "  <thead>\n",
       "    <tr style=\"text-align: right;\">\n",
       "      <th></th>\n",
       "      <th>Patient-Uid</th>\n",
       "      <th>Date</th>\n",
       "      <th>Incident</th>\n",
       "      <th>Prescription_Count</th>\n",
       "      <th>Time_diff</th>\n",
       "    </tr>\n",
       "  </thead>\n",
       "  <tbody>\n",
       "    <tr>\n",
       "      <th>3294791</th>\n",
       "      <td>a0eb742b-1c7c-11ec-8f61-16262ee38c7f</td>\n",
       "      <td>2020-04-09</td>\n",
       "      <td>TARGET DRUG</td>\n",
       "      <td>0</td>\n",
       "      <td>1197</td>\n",
       "    </tr>\n",
       "    <tr>\n",
       "      <th>3296990</th>\n",
       "      <td>a0edaf09-1c7c-11ec-a360-16262ee38c7f</td>\n",
       "      <td>2018-06-12</td>\n",
       "      <td>TARGET DRUG</td>\n",
       "      <td>0</td>\n",
       "      <td>1451</td>\n",
       "    </tr>\n",
       "    <tr>\n",
       "      <th>3305387</th>\n",
       "      <td>a0e9fa0e-1c7c-11ec-8dc7-16262ee38c7f</td>\n",
       "      <td>2019-06-11</td>\n",
       "      <td>TARGET DRUG</td>\n",
       "      <td>0</td>\n",
       "      <td>1476</td>\n",
       "    </tr>\n",
       "    <tr>\n",
       "      <th>3309423</th>\n",
       "      <td>a0ecc615-1c7c-11ec-aa31-16262ee38c7f</td>\n",
       "      <td>2019-11-15</td>\n",
       "      <td>TARGET DRUG</td>\n",
       "      <td>0</td>\n",
       "      <td>1181</td>\n",
       "    </tr>\n",
       "    <tr>\n",
       "      <th>3309494</th>\n",
       "      <td>a0ea612f-1c7c-11ec-8cf0-16262ee38c7f</td>\n",
       "      <td>2020-03-18</td>\n",
       "      <td>TARGET DRUG</td>\n",
       "      <td>0</td>\n",
       "      <td>1197</td>\n",
       "    </tr>\n",
       "  </tbody>\n",
       "</table>\n",
       "</div>"
      ],
      "text/plain": [
       "                                  Patient-Uid       Date     Incident   \n",
       "3294791  a0eb742b-1c7c-11ec-8f61-16262ee38c7f 2020-04-09  TARGET DRUG  \\\n",
       "3296990  a0edaf09-1c7c-11ec-a360-16262ee38c7f 2018-06-12  TARGET DRUG   \n",
       "3305387  a0e9fa0e-1c7c-11ec-8dc7-16262ee38c7f 2019-06-11  TARGET DRUG   \n",
       "3309423  a0ecc615-1c7c-11ec-aa31-16262ee38c7f 2019-11-15  TARGET DRUG   \n",
       "3309494  a0ea612f-1c7c-11ec-8cf0-16262ee38c7f 2020-03-18  TARGET DRUG   \n",
       "\n",
       "         Prescription_Count  Time_diff  \n",
       "3294791                   0       1197  \n",
       "3296990                   0       1451  \n",
       "3305387                   0       1476  \n",
       "3309423                   0       1181  \n",
       "3309494                   0       1197  "
      ]
     },
     "execution_count": 29,
     "metadata": {},
     "output_type": "execute_result"
    }
   ],
   "source": [
    "positive_df.head()"
   ]
  },
  {
   "cell_type": "code",
   "execution_count": 30,
   "metadata": {
    "colab": {
     "base_uri": "https://localhost:8080/",
     "height": 206
    },
    "id": "e6Y-NU2djZMv",
    "outputId": "cc42f578-6cec-4838-f0ab-c2e19c8fefcc"
   },
   "outputs": [
    {
     "data": {
      "text/html": [
       "<div>\n",
       "<style scoped>\n",
       "    .dataframe tbody tr th:only-of-type {\n",
       "        vertical-align: middle;\n",
       "    }\n",
       "\n",
       "    .dataframe tbody tr th {\n",
       "        vertical-align: top;\n",
       "    }\n",
       "\n",
       "    .dataframe thead th {\n",
       "        text-align: right;\n",
       "    }\n",
       "</style>\n",
       "<table border=\"1\" class=\"dataframe\">\n",
       "  <thead>\n",
       "    <tr style=\"text-align: right;\">\n",
       "      <th></th>\n",
       "      <th>Patient-Uid</th>\n",
       "      <th>Date</th>\n",
       "      <th>Incident</th>\n",
       "      <th>Prescription_Count</th>\n",
       "      <th>Time_diff</th>\n",
       "    </tr>\n",
       "  </thead>\n",
       "  <tbody>\n",
       "    <tr>\n",
       "      <th>1560892</th>\n",
       "      <td>a0e3a8c0-1c7c-11ec-98c2-16262ee38c7f</td>\n",
       "      <td>2018-05-06</td>\n",
       "      <td>PRIMARY_DIAGNOSIS</td>\n",
       "      <td>0</td>\n",
       "      <td>2027</td>\n",
       "    </tr>\n",
       "    <tr>\n",
       "      <th>1620903</th>\n",
       "      <td>a0dd6a3f-1c7c-11ec-9b86-16262ee38c7f</td>\n",
       "      <td>2015-04-07</td>\n",
       "      <td>SYMPTOM_TYPE_0</td>\n",
       "      <td>0</td>\n",
       "      <td>3152</td>\n",
       "    </tr>\n",
       "    <tr>\n",
       "      <th>1629044</th>\n",
       "      <td>a0e48a75-1c7c-11ec-8c5f-16262ee38c7f</td>\n",
       "      <td>2018-08-22</td>\n",
       "      <td>DRUG_TYPE_6</td>\n",
       "      <td>0</td>\n",
       "      <td>1919</td>\n",
       "    </tr>\n",
       "    <tr>\n",
       "      <th>1942882</th>\n",
       "      <td>a0e3cf61-1c7c-11ec-8098-16262ee38c7f</td>\n",
       "      <td>2018-08-21</td>\n",
       "      <td>DRUG_TYPE_2</td>\n",
       "      <td>0</td>\n",
       "      <td>1920</td>\n",
       "    </tr>\n",
       "    <tr>\n",
       "      <th>1975541</th>\n",
       "      <td>a0e91a8c-1c7c-11ec-acc2-16262ee38c7f</td>\n",
       "      <td>2020-04-15</td>\n",
       "      <td>PRIMARY_DIAGNOSIS</td>\n",
       "      <td>0</td>\n",
       "      <td>1317</td>\n",
       "    </tr>\n",
       "  </tbody>\n",
       "</table>\n",
       "</div>"
      ],
      "text/plain": [
       "                                  Patient-Uid       Date           Incident   \n",
       "1560892  a0e3a8c0-1c7c-11ec-98c2-16262ee38c7f 2018-05-06  PRIMARY_DIAGNOSIS  \\\n",
       "1620903  a0dd6a3f-1c7c-11ec-9b86-16262ee38c7f 2015-04-07     SYMPTOM_TYPE_0   \n",
       "1629044  a0e48a75-1c7c-11ec-8c5f-16262ee38c7f 2018-08-22        DRUG_TYPE_6   \n",
       "1942882  a0e3cf61-1c7c-11ec-8098-16262ee38c7f 2018-08-21        DRUG_TYPE_2   \n",
       "1975541  a0e91a8c-1c7c-11ec-acc2-16262ee38c7f 2020-04-15  PRIMARY_DIAGNOSIS   \n",
       "\n",
       "         Prescription_Count  Time_diff  \n",
       "1560892                   0       2027  \n",
       "1620903                   0       3152  \n",
       "1629044                   0       1919  \n",
       "1942882                   0       1920  \n",
       "1975541                   0       1317  "
      ]
     },
     "execution_count": 30,
     "metadata": {},
     "output_type": "execute_result"
    }
   ],
   "source": [
    "negative_df.head()"
   ]
  },
  {
   "cell_type": "code",
   "execution_count": 31,
   "metadata": {
    "colab": {
     "base_uri": "https://localhost:8080/",
     "height": 206
    },
    "id": "9KDP-5HhjhGK",
    "outputId": "9c3f82a4-bdf8-4428-c743-bf42b6f41a3d"
   },
   "outputs": [
    {
     "data": {
      "text/html": [
       "<div>\n",
       "<style scoped>\n",
       "    .dataframe tbody tr th:only-of-type {\n",
       "        vertical-align: middle;\n",
       "    }\n",
       "\n",
       "    .dataframe tbody tr th {\n",
       "        vertical-align: top;\n",
       "    }\n",
       "\n",
       "    .dataframe thead th {\n",
       "        text-align: right;\n",
       "    }\n",
       "</style>\n",
       "<table border=\"1\" class=\"dataframe\">\n",
       "  <thead>\n",
       "    <tr style=\"text-align: right;\">\n",
       "      <th></th>\n",
       "      <th>Patient-Uid</th>\n",
       "      <th>Date</th>\n",
       "      <th>Incident</th>\n",
       "      <th>Prescription_Count</th>\n",
       "      <th>Time_diff</th>\n",
       "    </tr>\n",
       "  </thead>\n",
       "  <tbody>\n",
       "    <tr>\n",
       "      <th>3294791</th>\n",
       "      <td>a0eb742b-1c7c-11ec-8f61-16262ee38c7f</td>\n",
       "      <td>2020-04-09</td>\n",
       "      <td>TARGET DRUG</td>\n",
       "      <td>0</td>\n",
       "      <td>1197</td>\n",
       "    </tr>\n",
       "    <tr>\n",
       "      <th>3296990</th>\n",
       "      <td>a0edaf09-1c7c-11ec-a360-16262ee38c7f</td>\n",
       "      <td>2018-06-12</td>\n",
       "      <td>TARGET DRUG</td>\n",
       "      <td>0</td>\n",
       "      <td>1451</td>\n",
       "    </tr>\n",
       "    <tr>\n",
       "      <th>3305387</th>\n",
       "      <td>a0e9fa0e-1c7c-11ec-8dc7-16262ee38c7f</td>\n",
       "      <td>2019-06-11</td>\n",
       "      <td>TARGET DRUG</td>\n",
       "      <td>0</td>\n",
       "      <td>1476</td>\n",
       "    </tr>\n",
       "    <tr>\n",
       "      <th>3309423</th>\n",
       "      <td>a0ecc615-1c7c-11ec-aa31-16262ee38c7f</td>\n",
       "      <td>2019-11-15</td>\n",
       "      <td>TARGET DRUG</td>\n",
       "      <td>0</td>\n",
       "      <td>1181</td>\n",
       "    </tr>\n",
       "    <tr>\n",
       "      <th>3309494</th>\n",
       "      <td>a0ea612f-1c7c-11ec-8cf0-16262ee38c7f</td>\n",
       "      <td>2020-03-18</td>\n",
       "      <td>TARGET DRUG</td>\n",
       "      <td>0</td>\n",
       "      <td>1197</td>\n",
       "    </tr>\n",
       "  </tbody>\n",
       "</table>\n",
       "</div>"
      ],
      "text/plain": [
       "                                  Patient-Uid       Date     Incident   \n",
       "3294791  a0eb742b-1c7c-11ec-8f61-16262ee38c7f 2020-04-09  TARGET DRUG  \\\n",
       "3296990  a0edaf09-1c7c-11ec-a360-16262ee38c7f 2018-06-12  TARGET DRUG   \n",
       "3305387  a0e9fa0e-1c7c-11ec-8dc7-16262ee38c7f 2019-06-11  TARGET DRUG   \n",
       "3309423  a0ecc615-1c7c-11ec-aa31-16262ee38c7f 2019-11-15  TARGET DRUG   \n",
       "3309494  a0ea612f-1c7c-11ec-8cf0-16262ee38c7f 2020-03-18  TARGET DRUG   \n",
       "\n",
       "         Prescription_Count  Time_diff  \n",
       "3294791                   0       1197  \n",
       "3296990                   0       1451  \n",
       "3305387                   0       1476  \n",
       "3309423                   0       1181  \n",
       "3309494                   0       1197  "
      ]
     },
     "execution_count": 31,
     "metadata": {},
     "output_type": "execute_result"
    }
   ],
   "source": [
    "# creating new dataset by concating positive and negative sets\n",
    "new_df = pd.concat([positive_df, negative_df])\n",
    "new_df.head()"
   ]
  },
  {
   "cell_type": "code",
   "execution_count": 32,
   "metadata": {
    "colab": {
     "base_uri": "https://localhost:8080/"
    },
    "id": "Fil1ykXSjuTc",
    "outputId": "e43b18af-4d15-4d7b-ba68-6138e3d6b7f3"
   },
   "outputs": [
    {
     "data": {
      "text/plain": [
       "(84877, 5)"
      ]
     },
     "execution_count": 32,
     "metadata": {},
     "output_type": "execute_result"
    }
   ],
   "source": [
    "new_df.shape"
   ]
  },
  {
   "cell_type": "code",
   "execution_count": 33,
   "metadata": {
    "id": "nydFdMbrmVXY"
   },
   "outputs": [],
   "source": [
    "# splitting dataset into train & test sets\n",
    "X_train,X_test,Y_train,Y_test = X_train, X_test, Y_train, Y_test = train_test_split(new_df[['Prescription_Count', 'Time_diff']], new_df['Incident'] == 'TARGET DRUG', test_size = 0.25, random_state=42)\n"
   ]
  },
  {
   "cell_type": "code",
   "execution_count": 34,
   "metadata": {
    "colab": {
     "base_uri": "https://localhost:8080/"
    },
    "id": "IOeyPShrmXiY",
    "outputId": "33156a45-0599-496e-da60-90c239003675"
   },
   "outputs": [
    {
     "data": {
      "text/plain": [
       "((63657, 2), (21220, 2), (63657,), (21220,))"
      ]
     },
     "execution_count": 34,
     "metadata": {},
     "output_type": "execute_result"
    }
   ],
   "source": [
    "X_train.shape,X_test.shape,Y_train.shape,Y_test.shape"
   ]
  },
  {
   "cell_type": "code",
   "execution_count": 35,
   "metadata": {
    "colab": {
     "base_uri": "https://localhost:8080/",
     "height": 248
    },
    "id": "wKopAWBXnBkY",
    "outputId": "8d07bb14-736a-458b-afa6-dae77a9023cd"
   },
   "outputs": [
    {
     "data": {
      "text/html": [
       "<style>#sk-container-id-1 {color: black;}#sk-container-id-1 pre{padding: 0;}#sk-container-id-1 div.sk-toggleable {background-color: white;}#sk-container-id-1 label.sk-toggleable__label {cursor: pointer;display: block;width: 100%;margin-bottom: 0;padding: 0.3em;box-sizing: border-box;text-align: center;}#sk-container-id-1 label.sk-toggleable__label-arrow:before {content: \"▸\";float: left;margin-right: 0.25em;color: #696969;}#sk-container-id-1 label.sk-toggleable__label-arrow:hover:before {color: black;}#sk-container-id-1 div.sk-estimator:hover label.sk-toggleable__label-arrow:before {color: black;}#sk-container-id-1 div.sk-toggleable__content {max-height: 0;max-width: 0;overflow: hidden;text-align: left;background-color: #f0f8ff;}#sk-container-id-1 div.sk-toggleable__content pre {margin: 0.2em;color: black;border-radius: 0.25em;background-color: #f0f8ff;}#sk-container-id-1 input.sk-toggleable__control:checked~div.sk-toggleable__content {max-height: 200px;max-width: 100%;overflow: auto;}#sk-container-id-1 input.sk-toggleable__control:checked~label.sk-toggleable__label-arrow:before {content: \"▾\";}#sk-container-id-1 div.sk-estimator input.sk-toggleable__control:checked~label.sk-toggleable__label {background-color: #d4ebff;}#sk-container-id-1 div.sk-label input.sk-toggleable__control:checked~label.sk-toggleable__label {background-color: #d4ebff;}#sk-container-id-1 input.sk-hidden--visually {border: 0;clip: rect(1px 1px 1px 1px);clip: rect(1px, 1px, 1px, 1px);height: 1px;margin: -1px;overflow: hidden;padding: 0;position: absolute;width: 1px;}#sk-container-id-1 div.sk-estimator {font-family: monospace;background-color: #f0f8ff;border: 1px dotted black;border-radius: 0.25em;box-sizing: border-box;margin-bottom: 0.5em;}#sk-container-id-1 div.sk-estimator:hover {background-color: #d4ebff;}#sk-container-id-1 div.sk-parallel-item::after {content: \"\";width: 100%;border-bottom: 1px solid gray;flex-grow: 1;}#sk-container-id-1 div.sk-label:hover label.sk-toggleable__label {background-color: #d4ebff;}#sk-container-id-1 div.sk-serial::before {content: \"\";position: absolute;border-left: 1px solid gray;box-sizing: border-box;top: 0;bottom: 0;left: 50%;z-index: 0;}#sk-container-id-1 div.sk-serial {display: flex;flex-direction: column;align-items: center;background-color: white;padding-right: 0.2em;padding-left: 0.2em;position: relative;}#sk-container-id-1 div.sk-item {position: relative;z-index: 1;}#sk-container-id-1 div.sk-parallel {display: flex;align-items: stretch;justify-content: center;background-color: white;position: relative;}#sk-container-id-1 div.sk-item::before, #sk-container-id-1 div.sk-parallel-item::before {content: \"\";position: absolute;border-left: 1px solid gray;box-sizing: border-box;top: 0;bottom: 0;left: 50%;z-index: -1;}#sk-container-id-1 div.sk-parallel-item {display: flex;flex-direction: column;z-index: 1;position: relative;background-color: white;}#sk-container-id-1 div.sk-parallel-item:first-child::after {align-self: flex-end;width: 50%;}#sk-container-id-1 div.sk-parallel-item:last-child::after {align-self: flex-start;width: 50%;}#sk-container-id-1 div.sk-parallel-item:only-child::after {width: 0;}#sk-container-id-1 div.sk-dashed-wrapped {border: 1px dashed gray;margin: 0 0.4em 0.5em 0.4em;box-sizing: border-box;padding-bottom: 0.4em;background-color: white;}#sk-container-id-1 div.sk-label label {font-family: monospace;font-weight: bold;display: inline-block;line-height: 1.2em;}#sk-container-id-1 div.sk-label-container {text-align: center;}#sk-container-id-1 div.sk-container {/* jupyter's `normalize.less` sets `[hidden] { display: none; }` but bootstrap.min.css set `[hidden] { display: none !important; }` so we also need the `!important` here to be able to override the default hidden behavior on the sphinx rendered scikit-learn.org. See: https://github.com/scikit-learn/scikit-learn/issues/21755 */display: inline-block !important;position: relative;}#sk-container-id-1 div.sk-text-repr-fallback {display: none;}</style><div id=\"sk-container-id-1\" class=\"sk-top-container\"><div class=\"sk-text-repr-fallback\"><pre>XGBClassifier(base_score=None, booster=None, callbacks=None,\n",
       "              colsample_bylevel=None, colsample_bynode=None,\n",
       "              colsample_bytree=None, device=None, early_stopping_rounds=None,\n",
       "              enable_categorical=False, eval_metric=None, feature_types=None,\n",
       "              gamma=None, grow_policy=None, importance_type=None,\n",
       "              interaction_constraints=None, learning_rate=None, max_bin=None,\n",
       "              max_cat_threshold=None, max_cat_to_onehot=None,\n",
       "              max_delta_step=None, max_depth=None, max_leaves=None,\n",
       "              min_child_weight=None, missing=nan, monotone_constraints=None,\n",
       "              multi_strategy=None, n_estimators=None, n_jobs=None,\n",
       "              num_parallel_tree=None, random_state=42, ...)</pre><b>In a Jupyter environment, please rerun this cell to show the HTML representation or trust the notebook. <br />On GitHub, the HTML representation is unable to render, please try loading this page with nbviewer.org.</b></div><div class=\"sk-container\" hidden><div class=\"sk-item\"><div class=\"sk-estimator sk-toggleable\"><input class=\"sk-toggleable__control sk-hidden--visually\" id=\"sk-estimator-id-1\" type=\"checkbox\" checked><label for=\"sk-estimator-id-1\" class=\"sk-toggleable__label sk-toggleable__label-arrow\">XGBClassifier</label><div class=\"sk-toggleable__content\"><pre>XGBClassifier(base_score=None, booster=None, callbacks=None,\n",
       "              colsample_bylevel=None, colsample_bynode=None,\n",
       "              colsample_bytree=None, device=None, early_stopping_rounds=None,\n",
       "              enable_categorical=False, eval_metric=None, feature_types=None,\n",
       "              gamma=None, grow_policy=None, importance_type=None,\n",
       "              interaction_constraints=None, learning_rate=None, max_bin=None,\n",
       "              max_cat_threshold=None, max_cat_to_onehot=None,\n",
       "              max_delta_step=None, max_depth=None, max_leaves=None,\n",
       "              min_child_weight=None, missing=nan, monotone_constraints=None,\n",
       "              multi_strategy=None, n_estimators=None, n_jobs=None,\n",
       "              num_parallel_tree=None, random_state=42, ...)</pre></div></div></div></div></div>"
      ],
      "text/plain": [
       "XGBClassifier(base_score=None, booster=None, callbacks=None,\n",
       "              colsample_bylevel=None, colsample_bynode=None,\n",
       "              colsample_bytree=None, device=None, early_stopping_rounds=None,\n",
       "              enable_categorical=False, eval_metric=None, feature_types=None,\n",
       "              gamma=None, grow_policy=None, importance_type=None,\n",
       "              interaction_constraints=None, learning_rate=None, max_bin=None,\n",
       "              max_cat_threshold=None, max_cat_to_onehot=None,\n",
       "              max_delta_step=None, max_depth=None, max_leaves=None,\n",
       "              min_child_weight=None, missing=nan, monotone_constraints=None,\n",
       "              multi_strategy=None, n_estimators=None, n_jobs=None,\n",
       "              num_parallel_tree=None, random_state=42, ...)"
      ]
     },
     "execution_count": 35,
     "metadata": {},
     "output_type": "execute_result"
    }
   ],
   "source": [
    "\n",
    "# building model to train the data\n",
    "xgb_classifier =  XGBClassifier(random_state=42)\n",
    "xgb_classifier.fit(X_train, Y_train)"
   ]
  },
  {
   "cell_type": "code",
   "execution_count": 36,
   "metadata": {
    "id": "UICAMTDYnFDh"
   },
   "outputs": [],
   "source": [
    "#predicting test data\n",
    "y_pred = xgb_classifier.predict(X_test)"
   ]
  },
  {
   "cell_type": "code",
   "execution_count": 37,
   "metadata": {
    "colab": {
     "base_uri": "https://localhost:8080/"
    },
    "id": "WI4RDocmnINd",
    "outputId": "e7a2192a-4965-4597-97b6-564f8deb05e8"
   },
   "outputs": [
    {
     "data": {
      "text/plain": [
       "array([[ 4015,   377],\n",
       "       [  895, 15933]])"
      ]
     },
     "execution_count": 37,
     "metadata": {},
     "output_type": "execute_result"
    }
   ],
   "source": [
    "# to evaluate the model - confusion_matrix\n",
    "conf_matrix_report = confusion_matrix(Y_test, y_pred)\n",
    "conf_matrix_report"
   ]
  },
  {
   "cell_type": "code",
   "execution_count": 38,
   "metadata": {
    "colab": {
     "base_uri": "https://localhost:8080/"
    },
    "id": "f0cETo__nLJ5",
    "outputId": "85ffeab9-0dac-4110-d9a3-117c7389e604"
   },
   "outputs": [
    {
     "name": "stdout",
     "output_type": "stream",
     "text": [
      "              precision    recall  f1-score   support\n",
      "\n",
      "       False       0.82      0.91      0.86      4392\n",
      "        True       0.98      0.95      0.96     16828\n",
      "\n",
      "    accuracy                           0.94     21220\n",
      "   macro avg       0.90      0.93      0.91     21220\n",
      "weighted avg       0.94      0.94      0.94     21220\n",
      "\n"
     ]
    }
   ],
   "source": [
    "# evaluating the model - classification report\n",
    "print(classification_report(Y_test, y_pred))"
   ]
  },
  {
   "cell_type": "code",
   "execution_count": 39,
   "metadata": {
    "colab": {
     "base_uri": "https://localhost:8080/"
    },
    "id": "xC7Jdcc7nQHy",
    "outputId": "3cec0b8d-5f76-43c6-a8a5-7c23e8327675"
   },
   "outputs": [
    {
     "data": {
      "text/plain": [
       "0.9616150642766613"
      ]
     },
     "execution_count": 39,
     "metadata": {},
     "output_type": "execute_result"
    }
   ],
   "source": [
    "# calculating F1 score\n",
    "F1_score = f1_score(Y_test, y_pred)\n",
    "F1_score\n"
   ]
  },
  {
   "cell_type": "code",
   "execution_count": 40,
   "metadata": {
    "colab": {
     "base_uri": "https://localhost:8080/"
    },
    "id": "SLx-dw-ynULJ",
    "outputId": "22ef8f53-471d-44e3-a53e-0e64714276e6"
   },
   "outputs": [
    {
     "data": {
      "text/plain": [
       "0.9400565504241282"
      ]
     },
     "execution_count": 40,
     "metadata": {},
     "output_type": "execute_result"
    }
   ],
   "source": [
    "# model accuracy\n",
    "accuracy_score(Y_test, y_pred)"
   ]
  },
  {
   "cell_type": "code",
   "execution_count": 41,
   "metadata": {
    "colab": {
     "base_uri": "https://localhost:8080/",
     "height": 471
    },
    "id": "VQOcSePMnXpb",
    "outputId": "0a3994af-4c11-423e-b289-4a63187fb526"
   },
   "outputs": [
    {
     "data": {
      "image/png": "[encoded data removed]",
      "text/plain": [
       "<Figure size 640x480 with 1 Axes>"
      ]
     },
     "metadata": {},
     "output_type": "display_data"
    }
   ],
   "source": [
    "# evaluating model by roc_auc curve\n",
    "fpr,tpr, thresold = roc_curve(Y_test, y_pred)\n",
    "roc_auc = auc(fpr,tpr)\n",
    "plt.plot(fpr,tpr, label = 'AUC = %0.3f' % roc_auc)\n",
    "plt.plot([0,1],[0,1],'--')\n",
    "plt.title('ROC_AUC curve')\n",
    "plt.legend(loc='lower right')\n",
    "plt.xlabel('False positive rate')\n",
    "plt.ylabel('True positive rate')\n",
    "plt.show()"
   ]
  },
  {
   "cell_type": "markdown",
   "metadata": {
    "id": "r2rTALU3OOAw"
   },
   "source": [
    "### **Loading Dataset - Test Data**"
   ]
  },
  {
   "cell_type": "code",
   "execution_count": 42,
   "metadata": {
    "id": "Z9oDOvk4OOoP"
   },
   "outputs": [],
   "source": [
    "test_df = pd.read_parquet(\"test.parquet\")"
   ]
  },
  {
   "cell_type": "markdown",
   "metadata": {
    "id": "R8PJtyKvOn7f"
   },
   "source": [
    "### **Analysis of Data**"
   ]
  },
  {
   "cell_type": "code",
   "execution_count": 43,
   "metadata": {
    "colab": {
     "base_uri": "https://localhost:8080/"
    },
    "id": "2f-bA_giOqqO",
    "outputId": "ba4c9b66-b693-46e2-ec81-c76c058b9833"
   },
   "outputs": [
    {
     "name": "stdout",
     "output_type": "stream",
     "text": [
      "Data set size :  (1065524, 3)\n"
     ]
    }
   ],
   "source": [
    "# Checking size of dataset\n",
    "print(\"Data set size : \", test_df.shape)"
   ]
  },
  {
   "cell_type": "markdown",
   "metadata": {
    "id": "6wHRvA5xOv-A"
   },
   "source": [
    "- From the above result no of rows are 1065524 and no of columns are 3"
   ]
  },
  {
   "cell_type": "code",
   "execution_count": 44,
   "metadata": {
    "colab": {
     "base_uri": "https://localhost:8080/",
     "height": 206
    },
    "id": "kvOmW0ELO1KB",
    "outputId": "45d1ee91-9ec0-4279-f686-6bf792940a25"
   },
   "outputs": [
    {
     "data": {
      "text/html": [
       "<div>\n",
       "<style scoped>\n",
       "    .dataframe tbody tr th:only-of-type {\n",
       "        vertical-align: middle;\n",
       "    }\n",
       "\n",
       "    .dataframe tbody tr th {\n",
       "        vertical-align: top;\n",
       "    }\n",
       "\n",
       "    .dataframe thead th {\n",
       "        text-align: right;\n",
       "    }\n",
       "</style>\n",
       "<table border=\"1\" class=\"dataframe\">\n",
       "  <thead>\n",
       "    <tr style=\"text-align: right;\">\n",
       "      <th></th>\n",
       "      <th>Patient-Uid</th>\n",
       "      <th>Date</th>\n",
       "      <th>Incident</th>\n",
       "    </tr>\n",
       "  </thead>\n",
       "  <tbody>\n",
       "    <tr>\n",
       "      <th>0</th>\n",
       "      <td>a0f9e8a9-1c7c-11ec-8d25-16262ee38c7f</td>\n",
       "      <td>2016-12-08</td>\n",
       "      <td>SYMPTOM_TYPE_0</td>\n",
       "    </tr>\n",
       "    <tr>\n",
       "      <th>1</th>\n",
       "      <td>a0f9e8a9-1c7c-11ec-8d25-16262ee38c7f</td>\n",
       "      <td>2018-10-17</td>\n",
       "      <td>DRUG_TYPE_0</td>\n",
       "    </tr>\n",
       "    <tr>\n",
       "      <th>2</th>\n",
       "      <td>a0f9e8a9-1c7c-11ec-8d25-16262ee38c7f</td>\n",
       "      <td>2017-12-01</td>\n",
       "      <td>DRUG_TYPE_2</td>\n",
       "    </tr>\n",
       "    <tr>\n",
       "      <th>3</th>\n",
       "      <td>a0f9e8a9-1c7c-11ec-8d25-16262ee38c7f</td>\n",
       "      <td>2018-12-05</td>\n",
       "      <td>DRUG_TYPE_1</td>\n",
       "    </tr>\n",
       "    <tr>\n",
       "      <th>4</th>\n",
       "      <td>a0f9e8a9-1c7c-11ec-8d25-16262ee38c7f</td>\n",
       "      <td>2017-11-04</td>\n",
       "      <td>SYMPTOM_TYPE_0</td>\n",
       "    </tr>\n",
       "  </tbody>\n",
       "</table>\n",
       "</div>"
      ],
      "text/plain": [
       "                            Patient-Uid       Date        Incident\n",
       "0  a0f9e8a9-1c7c-11ec-8d25-16262ee38c7f 2016-12-08  SYMPTOM_TYPE_0\n",
       "1  a0f9e8a9-1c7c-11ec-8d25-16262ee38c7f 2018-10-17     DRUG_TYPE_0\n",
       "2  a0f9e8a9-1c7c-11ec-8d25-16262ee38c7f 2017-12-01     DRUG_TYPE_2\n",
       "3  a0f9e8a9-1c7c-11ec-8d25-16262ee38c7f 2018-12-05     DRUG_TYPE_1\n",
       "4  a0f9e8a9-1c7c-11ec-8d25-16262ee38c7f 2017-11-04  SYMPTOM_TYPE_0"
      ]
     },
     "execution_count": 44,
     "metadata": {},
     "output_type": "execute_result"
    }
   ],
   "source": [
    "#Fetching top 5 row in dataset\n",
    "test_df.head()"
   ]
  },
  {
   "cell_type": "code",
   "execution_count": 45,
   "metadata": {
    "colab": {
     "base_uri": "https://localhost:8080/",
     "height": 206
    },
    "id": "qxtq5qE3O44p",
    "outputId": "1a721c71-ad23-4cdd-975d-1c2199d88cb7"
   },
   "outputs": [
    {
     "data": {
      "text/html": [
       "<div>\n",
       "<style scoped>\n",
       "    .dataframe tbody tr th:only-of-type {\n",
       "        vertical-align: middle;\n",
       "    }\n",
       "\n",
       "    .dataframe tbody tr th {\n",
       "        vertical-align: top;\n",
       "    }\n",
       "\n",
       "    .dataframe thead th {\n",
       "        text-align: right;\n",
       "    }\n",
       "</style>\n",
       "<table border=\"1\" class=\"dataframe\">\n",
       "  <thead>\n",
       "    <tr style=\"text-align: right;\">\n",
       "      <th></th>\n",
       "      <th>Patient-Uid</th>\n",
       "      <th>Date</th>\n",
       "      <th>Incident</th>\n",
       "    </tr>\n",
       "  </thead>\n",
       "  <tbody>\n",
       "    <tr>\n",
       "      <th>1372854</th>\n",
       "      <td>a10272c9-1c7c-11ec-b3ce-16262ee38c7f</td>\n",
       "      <td>2017-05-11</td>\n",
       "      <td>DRUG_TYPE_13</td>\n",
       "    </tr>\n",
       "    <tr>\n",
       "      <th>1372856</th>\n",
       "      <td>a10272c9-1c7c-11ec-b3ce-16262ee38c7f</td>\n",
       "      <td>2018-08-22</td>\n",
       "      <td>DRUG_TYPE_2</td>\n",
       "    </tr>\n",
       "    <tr>\n",
       "      <th>1372857</th>\n",
       "      <td>a10272c9-1c7c-11ec-b3ce-16262ee38c7f</td>\n",
       "      <td>2017-02-04</td>\n",
       "      <td>DRUG_TYPE_2</td>\n",
       "    </tr>\n",
       "    <tr>\n",
       "      <th>1372858</th>\n",
       "      <td>a10272c9-1c7c-11ec-b3ce-16262ee38c7f</td>\n",
       "      <td>2017-09-25</td>\n",
       "      <td>DRUG_TYPE_8</td>\n",
       "    </tr>\n",
       "    <tr>\n",
       "      <th>1372859</th>\n",
       "      <td>a10272c9-1c7c-11ec-b3ce-16262ee38c7f</td>\n",
       "      <td>2017-05-19</td>\n",
       "      <td>DRUG_TYPE_7</td>\n",
       "    </tr>\n",
       "  </tbody>\n",
       "</table>\n",
       "</div>"
      ],
      "text/plain": [
       "                                  Patient-Uid       Date      Incident\n",
       "1372854  a10272c9-1c7c-11ec-b3ce-16262ee38c7f 2017-05-11  DRUG_TYPE_13\n",
       "1372856  a10272c9-1c7c-11ec-b3ce-16262ee38c7f 2018-08-22   DRUG_TYPE_2\n",
       "1372857  a10272c9-1c7c-11ec-b3ce-16262ee38c7f 2017-02-04   DRUG_TYPE_2\n",
       "1372858  a10272c9-1c7c-11ec-b3ce-16262ee38c7f 2017-09-25   DRUG_TYPE_8\n",
       "1372859  a10272c9-1c7c-11ec-b3ce-16262ee38c7f 2017-05-19   DRUG_TYPE_7"
      ]
     },
     "execution_count": 45,
     "metadata": {},
     "output_type": "execute_result"
    }
   ],
   "source": [
    "#Fetching Bottom 5 rows\n",
    "test_df.tail()"
   ]
  },
  {
   "cell_type": "code",
   "execution_count": 46,
   "metadata": {
    "colab": {
     "base_uri": "https://localhost:8080/"
    },
    "id": "4_8e8jsWO9-p",
    "outputId": "bd42521e-c653-4ef3-e078-2d50f3651583"
   },
   "outputs": [
    {
     "data": {
      "text/plain": [
       "Index(['Patient-Uid', 'Date', 'Incident'], dtype='object')"
      ]
     },
     "execution_count": 46,
     "metadata": {},
     "output_type": "execute_result"
    }
   ],
   "source": [
    "#finding the column names\n",
    "test_df.columns"
   ]
  },
  {
   "cell_type": "code",
   "execution_count": 47,
   "metadata": {
    "colab": {
     "base_uri": "https://localhost:8080/",
     "height": 238
    },
    "id": "q80UXd-CPCvh",
    "outputId": "3d8f3085-9bbb-4d09-e5cf-f6ac7fe48562"
   },
   "outputs": [
    {
     "data": {
      "text/html": [
       "<div>\n",
       "<style scoped>\n",
       "    .dataframe tbody tr th:only-of-type {\n",
       "        vertical-align: middle;\n",
       "    }\n",
       "\n",
       "    .dataframe tbody tr th {\n",
       "        vertical-align: top;\n",
       "    }\n",
       "\n",
       "    .dataframe thead th {\n",
       "        text-align: right;\n",
       "    }\n",
       "</style>\n",
       "<table border=\"1\" class=\"dataframe\">\n",
       "  <thead>\n",
       "    <tr style=\"text-align: right;\">\n",
       "      <th></th>\n",
       "      <th>Date</th>\n",
       "    </tr>\n",
       "  </thead>\n",
       "  <tbody>\n",
       "    <tr>\n",
       "      <th>count</th>\n",
       "      <td>1065524</td>\n",
       "    </tr>\n",
       "    <tr>\n",
       "      <th>mean</th>\n",
       "      <td>2017-09-01 15:54:13.488799488</td>\n",
       "    </tr>\n",
       "    <tr>\n",
       "      <th>min</th>\n",
       "      <td>2015-04-07 00:00:00</td>\n",
       "    </tr>\n",
       "    <tr>\n",
       "      <th>25%</th>\n",
       "      <td>2016-07-26 00:00:00</td>\n",
       "    </tr>\n",
       "    <tr>\n",
       "      <th>50%</th>\n",
       "      <td>2017-09-11 00:00:00</td>\n",
       "    </tr>\n",
       "    <tr>\n",
       "      <th>75%</th>\n",
       "      <td>2018-09-26 00:00:00</td>\n",
       "    </tr>\n",
       "    <tr>\n",
       "      <th>max</th>\n",
       "      <td>2020-08-04 00:00:00</td>\n",
       "    </tr>\n",
       "  </tbody>\n",
       "</table>\n",
       "</div>"
      ],
      "text/plain": [
       "                                Date\n",
       "count                        1065524\n",
       "mean   2017-09-01 15:54:13.488799488\n",
       "min              2015-04-07 00:00:00\n",
       "25%              2016-07-26 00:00:00\n",
       "50%              2017-09-11 00:00:00\n",
       "75%              2018-09-26 00:00:00\n",
       "max              2020-08-04 00:00:00"
      ]
     },
     "execution_count": 47,
     "metadata": {},
     "output_type": "execute_result"
    }
   ],
   "source": [
    "#Basic statistical analysis of dataset\n",
    "test_df.describe()"
   ]
  },
  {
   "cell_type": "markdown",
   "metadata": {
    "id": "VO_YFp9SPLtH"
   },
   "source": [
    "### **Data Preprocessing**\n",
    "### **Data Cleaning - Missing Values**"
   ]
  },
  {
   "cell_type": "code",
   "execution_count": 48,
   "metadata": {
    "colab": {
     "base_uri": "https://localhost:8080/"
    },
    "id": "BLp00UNKPUUC",
    "outputId": "4a0fccac-76cb-4e02-c917-49a655bed084"
   },
   "outputs": [
    {
     "data": {
      "text/plain": [
       "Patient-Uid    0\n",
       "Date           0\n",
       "Incident       0\n",
       "dtype: int64"
      ]
     },
     "execution_count": 48,
     "metadata": {},
     "output_type": "execute_result"
    }
   ],
   "source": [
    "#checking for null values\n",
    "test_df.isnull().sum()"
   ]
  },
  {
   "cell_type": "markdown",
   "metadata": {
    "id": "gSOmqRgZPfHv"
   },
   "source": [
    "### **Finding Duplicate Values**"
   ]
  },
  {
   "cell_type": "code",
   "execution_count": 49,
   "metadata": {
    "colab": {
     "base_uri": "https://localhost:8080/"
    },
    "id": "9GfSTT4xPnEC",
    "outputId": "8004edaf-d6d0-49fa-aa5a-44eff9b927c2"
   },
   "outputs": [
    {
     "data": {
      "text/plain": [
       "12100"
      ]
     },
     "execution_count": 49,
     "metadata": {},
     "output_type": "execute_result"
    }
   ],
   "source": [
    "#checking for no of duplicate values\n",
    "test_df.duplicated().sum()"
   ]
  },
  {
   "cell_type": "markdown",
   "metadata": {
    "id": "3npr2cQwPr0g"
   },
   "source": [
    "- From the above result we can find 12100 duplicate datas. So will drop the duplicates."
   ]
  },
  {
   "cell_type": "code",
   "execution_count": 50,
   "metadata": {
    "id": "U9u09wJ8PwzH"
   },
   "outputs": [],
   "source": [
    "#droping duplicates\n",
    "test_df = test_df.drop_duplicates()"
   ]
  },
  {
   "cell_type": "code",
   "execution_count": 51,
   "metadata": {
    "colab": {
     "base_uri": "https://localhost:8080/"
    },
    "id": "xBGikO4wP0Mq",
    "outputId": "957f1227-7c95-43a7-be9c-afda0c22ca55"
   },
   "outputs": [
    {
     "data": {
      "text/plain": [
       "0"
      ]
     },
     "execution_count": 51,
     "metadata": {},
     "output_type": "execute_result"
    }
   ],
   "source": [
    "#after droping agin check for no of duplicates\n",
    "test_df.duplicated().sum()"
   ]
  },
  {
   "cell_type": "markdown",
   "metadata": {
    "id": "vXFl-1XLP3yg"
   },
   "source": [
    "- Duplicates are removed from dataset."
   ]
  },
  {
   "cell_type": "markdown",
   "metadata": {
    "id": "7haUkcLWP718"
   },
   "source": [
    "### **Checking Data Type**"
   ]
  },
  {
   "cell_type": "code",
   "execution_count": 52,
   "metadata": {
    "colab": {
     "base_uri": "https://localhost:8080/"
    },
    "id": "1turSShVQGXZ",
    "outputId": "05b40487-8ed9-4eb2-d837-9f46b8d58afa"
   },
   "outputs": [
    {
     "data": {
      "text/plain": [
       "Patient-Uid            object\n",
       "Date           datetime64[ns]\n",
       "Incident               object\n",
       "dtype: object"
      ]
     },
     "execution_count": 52,
     "metadata": {},
     "output_type": "execute_result"
    }
   ],
   "source": [
    "test_df.dtypes"
   ]
  },
  {
   "cell_type": "markdown",
   "metadata": {
    "id": "tv_EnlZXQMa5"
   },
   "source": [
    "### **Unique Values of Incident**"
   ]
  },
  {
   "cell_type": "code",
   "execution_count": 53,
   "metadata": {
    "colab": {
     "base_uri": "https://localhost:8080/"
    },
    "id": "JJCrnOBsQRcy",
    "outputId": "69249442-0dfb-413d-ede6-bb2df5c6f332"
   },
   "outputs": [
    {
     "name": "stdout",
     "output_type": "stream",
     "text": [
      "Unique values of Incident \n",
      "\n",
      "['SYMPTOM_TYPE_0' 'DRUG_TYPE_0' 'DRUG_TYPE_2' 'DRUG_TYPE_1'\n",
      " 'PRIMARY_DIAGNOSIS' 'DRUG_TYPE_8' 'TEST_TYPE_0' 'DRUG_TYPE_7'\n",
      " 'DRUG_TYPE_11' 'SYMPTOM_TYPE_6' 'DRUG_TYPE_5' 'DRUG_TYPE_6' 'DRUG_TYPE_9'\n",
      " 'DRUG_TYPE_15' 'TEST_TYPE_3' 'SYMPTOM_TYPE_3' 'TEST_TYPE_1' 'DRUG_TYPE_3'\n",
      " 'TEST_TYPE_2' 'SYMPTOM_TYPE_7' 'DRUG_TYPE_12' 'SYMPTOM_TYPE_2'\n",
      " 'SYMPTOM_TYPE_10' 'SYMPTOM_TYPE_1' 'SYMPTOM_TYPE_17' 'SYMPTOM_TYPE_18'\n",
      " 'SYMPTOM_TYPE_5' 'SYMPTOM_TYPE_15' 'SYMPTOM_TYPE_9' 'SYMPTOM_TYPE_4'\n",
      " 'SYMPTOM_TYPE_8' 'SYMPTOM_TYPE_29' 'DRUG_TYPE_13' 'SYMPTOM_TYPE_21'\n",
      " 'DRUG_TYPE_4' 'SYMPTOM_TYPE_12' 'SYMPTOM_TYPE_11' 'SYMPTOM_TYPE_19'\n",
      " 'DRUG_TYPE_14' 'SYMPTOM_TYPE_16' 'TEST_TYPE_4' 'DRUG_TYPE_10'\n",
      " 'SYMPTOM_TYPE_26' 'SYMPTOM_TYPE_14' 'SYMPTOM_TYPE_24' 'DRUG_TYPE_16'\n",
      " 'SYMPTOM_TYPE_13' 'TEST_TYPE_5' 'SYMPTOM_TYPE_20' 'SYMPTOM_TYPE_25'\n",
      " 'SYMPTOM_TYPE_22' 'DRUG_TYPE_17' 'SYMPTOM_TYPE_27' 'SYMPTOM_TYPE_23'\n",
      " 'SYMPTOM_TYPE_28']\n"
     ]
    }
   ],
   "source": [
    "print(\"Unique values of Incident \\n\")\n",
    "print(test_df['Incident'].unique())"
   ]
  },
  {
   "cell_type": "markdown",
   "metadata": {
    "id": "RPdUS1sNQcGQ"
   },
   "source": [
    "### **Exploring the Dataset**"
   ]
  },
  {
   "cell_type": "code",
   "execution_count": 54,
   "metadata": {
    "colab": {
     "base_uri": "https://localhost:8080/"
    },
    "id": "u-GH_7luQnfH",
    "outputId": "5df8ce67-eb45-4bb6-df78-99e5c1399290"
   },
   "outputs": [
    {
     "data": {
      "text/plain": [
       "Incident\n",
       "DRUG_TYPE_6          188401\n",
       "DRUG_TYPE_1          169089\n",
       "PRIMARY_DIAGNOSIS    127996\n",
       "DRUG_TYPE_0           90711\n",
       "DRUG_TYPE_2           90465\n",
       "DRUG_TYPE_7           90423\n",
       "DRUG_TYPE_8           55696\n",
       "DRUG_TYPE_3           40679\n",
       "TEST_TYPE_1           34274\n",
       "DRUG_TYPE_9           25294\n",
       "DRUG_TYPE_5           20045\n",
       "SYMPTOM_TYPE_0        17292\n",
       "DRUG_TYPE_11          16587\n",
       "SYMPTOM_TYPE_6        11536\n",
       "TEST_TYPE_0           10921\n",
       "SYMPTOM_TYPE_7         7943\n",
       "SYMPTOM_TYPE_5         5403\n",
       "DRUG_TYPE_14           4963\n",
       "DRUG_TYPE_10           4242\n",
       "DRUG_TYPE_13           4059\n",
       "SYMPTOM_TYPE_1         2955\n",
       "DRUG_TYPE_12           2823\n",
       "SYMPTOM_TYPE_2         2772\n",
       "TEST_TYPE_3            2709\n",
       "SYMPTOM_TYPE_8         2683\n",
       "TEST_TYPE_2            2524\n",
       "SYMPTOM_TYPE_14        2482\n",
       "DRUG_TYPE_4            1840\n",
       "SYMPTOM_TYPE_15        1818\n",
       "SYMPTOM_TYPE_10        1783\n",
       "SYMPTOM_TYPE_29        1697\n",
       "SYMPTOM_TYPE_9         1689\n",
       "SYMPTOM_TYPE_16        1576\n",
       "DRUG_TYPE_15           1373\n",
       "SYMPTOM_TYPE_4         1315\n",
       "SYMPTOM_TYPE_3          968\n",
       "SYMPTOM_TYPE_12         935\n",
       "SYMPTOM_TYPE_11         776\n",
       "SYMPTOM_TYPE_17         714\n",
       "SYMPTOM_TYPE_13         531\n",
       "DRUG_TYPE_16            424\n",
       "TEST_TYPE_4             377\n",
       "SYMPTOM_TYPE_18         164\n",
       "SYMPTOM_TYPE_22         114\n",
       "SYMPTOM_TYPE_21         110\n",
       "SYMPTOM_TYPE_19          70\n",
       "SYMPTOM_TYPE_24          46\n",
       "TEST_TYPE_5              40\n",
       "SYMPTOM_TYPE_20          27\n",
       "SYMPTOM_TYPE_23          21\n",
       "SYMPTOM_TYPE_26          19\n",
       "SYMPTOM_TYPE_28          10\n",
       "DRUG_TYPE_17              8\n",
       "SYMPTOM_TYPE_27           8\n",
       "SYMPTOM_TYPE_25           4\n",
       "Name: count, dtype: int64"
      ]
     },
     "execution_count": 54,
     "metadata": {},
     "output_type": "execute_result"
    }
   ],
   "source": [
    "#no of counts for particular Incident\n",
    "test_df.Incident.value_counts()"
   ]
  },
  {
   "cell_type": "code",
   "execution_count": 55,
   "metadata": {
    "colab": {
     "base_uri": "https://localhost:8080/",
     "height": 49
    },
    "id": "MSBHgL09p_f4",
    "outputId": "dc895acd-5828-4d2e-da03-bd3ee4b40376"
   },
   "outputs": [
    {
     "data": {
      "text/html": [
       "<div>\n",
       "<style scoped>\n",
       "    .dataframe tbody tr th:only-of-type {\n",
       "        vertical-align: middle;\n",
       "    }\n",
       "\n",
       "    .dataframe tbody tr th {\n",
       "        vertical-align: top;\n",
       "    }\n",
       "\n",
       "    .dataframe thead th {\n",
       "        text-align: right;\n",
       "    }\n",
       "</style>\n",
       "<table border=\"1\" class=\"dataframe\">\n",
       "  <thead>\n",
       "    <tr style=\"text-align: right;\">\n",
       "      <th></th>\n",
       "      <th>Patient-Uid</th>\n",
       "      <th>Date</th>\n",
       "      <th>Incident</th>\n",
       "    </tr>\n",
       "  </thead>\n",
       "  <tbody>\n",
       "  </tbody>\n",
       "</table>\n",
       "</div>"
      ],
      "text/plain": [
       "Empty DataFrame\n",
       "Columns: [Patient-Uid, Date, Incident]\n",
       "Index: []"
      ]
     },
     "execution_count": 55,
     "metadata": {},
     "output_type": "execute_result"
    }
   ],
   "source": [
    "# generating positive set\n",
    "positive_df = test_df[test_df['Incident']=='TARGET DRUG']\n",
    "positive_df.head()\n"
   ]
  },
  {
   "cell_type": "code",
   "execution_count": 56,
   "metadata": {
    "colab": {
     "base_uri": "https://localhost:8080/"
    },
    "id": "ehXgCMNVqL8g",
    "outputId": "ec3eeb98-58d3-453c-9582-02e5bd9deae0"
   },
   "outputs": [
    {
     "data": {
      "text/plain": [
       "(0, 3)"
      ]
     },
     "execution_count": 56,
     "metadata": {},
     "output_type": "execute_result"
    }
   ],
   "source": [
    "# shape of positive set\n",
    "positive_df.shape"
   ]
  },
  {
   "cell_type": "code",
   "execution_count": 57,
   "metadata": {
    "colab": {
     "base_uri": "https://localhost:8080/",
     "height": 424
    },
    "id": "JPXGnWXlqQrQ",
    "outputId": "c4267842-21d8-4389-9008-ce38dadf00b3"
   },
   "outputs": [
    {
     "data": {
      "text/html": [
       "<div>\n",
       "<style scoped>\n",
       "    .dataframe tbody tr th:only-of-type {\n",
       "        vertical-align: middle;\n",
       "    }\n",
       "\n",
       "    .dataframe tbody tr th {\n",
       "        vertical-align: top;\n",
       "    }\n",
       "\n",
       "    .dataframe thead th {\n",
       "        text-align: right;\n",
       "    }\n",
       "</style>\n",
       "<table border=\"1\" class=\"dataframe\">\n",
       "  <thead>\n",
       "    <tr style=\"text-align: right;\">\n",
       "      <th></th>\n",
       "      <th>Patient-Uid</th>\n",
       "      <th>Date</th>\n",
       "      <th>Incident</th>\n",
       "    </tr>\n",
       "  </thead>\n",
       "  <tbody>\n",
       "    <tr>\n",
       "      <th>57</th>\n",
       "      <td>a0f9e8a9-1c7c-11ec-8d25-16262ee38c7f</td>\n",
       "      <td>2017-12-01</td>\n",
       "      <td>TEST_TYPE_0</td>\n",
       "    </tr>\n",
       "    <tr>\n",
       "      <th>208</th>\n",
       "      <td>a0f9e9f9-1c7c-11ec-b565-16262ee38c7f</td>\n",
       "      <td>2016-06-22</td>\n",
       "      <td>DRUG_TYPE_9</td>\n",
       "    </tr>\n",
       "    <tr>\n",
       "      <th>305</th>\n",
       "      <td>a0f9ea43-1c7c-11ec-aa10-16262ee38c7f</td>\n",
       "      <td>2019-07-21</td>\n",
       "      <td>DRUG_TYPE_6</td>\n",
       "    </tr>\n",
       "    <tr>\n",
       "      <th>420</th>\n",
       "      <td>a0f9ea7c-1c7c-11ec-af15-16262ee38c7f</td>\n",
       "      <td>2016-06-15</td>\n",
       "      <td>DRUG_TYPE_6</td>\n",
       "    </tr>\n",
       "    <tr>\n",
       "      <th>497</th>\n",
       "      <td>a0f9eab1-1c7c-11ec-a732-16262ee38c7f</td>\n",
       "      <td>2018-11-22</td>\n",
       "      <td>DRUG_TYPE_6</td>\n",
       "    </tr>\n",
       "    <tr>\n",
       "      <th>...</th>\n",
       "      <td>...</td>\n",
       "      <td>...</td>\n",
       "      <td>...</td>\n",
       "    </tr>\n",
       "    <tr>\n",
       "      <th>1372381</th>\n",
       "      <td>a102720c-1c7c-11ec-bd9a-16262ee38c7f</td>\n",
       "      <td>2020-01-07</td>\n",
       "      <td>DRUG_TYPE_6</td>\n",
       "    </tr>\n",
       "    <tr>\n",
       "      <th>1372432</th>\n",
       "      <td>a102723c-1c7c-11ec-9f80-16262ee38c7f</td>\n",
       "      <td>2019-07-06</td>\n",
       "      <td>DRUG_TYPE_3</td>\n",
       "    </tr>\n",
       "    <tr>\n",
       "      <th>1372543</th>\n",
       "      <td>a102726b-1c7c-11ec-bfbf-16262ee38c7f</td>\n",
       "      <td>2018-12-31</td>\n",
       "      <td>DRUG_TYPE_0</td>\n",
       "    </tr>\n",
       "    <tr>\n",
       "      <th>1372607</th>\n",
       "      <td>a102729b-1c7c-11ec-86ba-16262ee38c7f</td>\n",
       "      <td>2019-04-02</td>\n",
       "      <td>DRUG_TYPE_3</td>\n",
       "    </tr>\n",
       "    <tr>\n",
       "      <th>1372859</th>\n",
       "      <td>a10272c9-1c7c-11ec-b3ce-16262ee38c7f</td>\n",
       "      <td>2017-05-19</td>\n",
       "      <td>DRUG_TYPE_7</td>\n",
       "    </tr>\n",
       "  </tbody>\n",
       "</table>\n",
       "<p>11482 rows × 3 columns</p>\n",
       "</div>"
      ],
      "text/plain": [
       "                                  Patient-Uid       Date     Incident\n",
       "57       a0f9e8a9-1c7c-11ec-8d25-16262ee38c7f 2017-12-01  TEST_TYPE_0\n",
       "208      a0f9e9f9-1c7c-11ec-b565-16262ee38c7f 2016-06-22  DRUG_TYPE_9\n",
       "305      a0f9ea43-1c7c-11ec-aa10-16262ee38c7f 2019-07-21  DRUG_TYPE_6\n",
       "420      a0f9ea7c-1c7c-11ec-af15-16262ee38c7f 2016-06-15  DRUG_TYPE_6\n",
       "497      a0f9eab1-1c7c-11ec-a732-16262ee38c7f 2018-11-22  DRUG_TYPE_6\n",
       "...                                       ...        ...          ...\n",
       "1372381  a102720c-1c7c-11ec-bd9a-16262ee38c7f 2020-01-07  DRUG_TYPE_6\n",
       "1372432  a102723c-1c7c-11ec-9f80-16262ee38c7f 2019-07-06  DRUG_TYPE_3\n",
       "1372543  a102726b-1c7c-11ec-bfbf-16262ee38c7f 2018-12-31  DRUG_TYPE_0\n",
       "1372607  a102729b-1c7c-11ec-86ba-16262ee38c7f 2019-04-02  DRUG_TYPE_3\n",
       "1372859  a10272c9-1c7c-11ec-b3ce-16262ee38c7f 2017-05-19  DRUG_TYPE_7\n",
       "\n",
       "[11482 rows x 3 columns]"
      ]
     },
     "execution_count": 57,
     "metadata": {},
     "output_type": "execute_result"
    }
   ],
   "source": [
    "negative =  test_df[~test_df['Patient-Uid'].isin(positive_df['Patient-Uid'])]\n",
    "negative_df = negative.groupby('Patient-Uid').tail(1)\n",
    "negative_df"
   ]
  },
  {
   "cell_type": "code",
   "execution_count": 58,
   "metadata": {
    "colab": {
     "base_uri": "https://localhost:8080/"
    },
    "id": "TjRjUl2nqW2P",
    "outputId": "f6fe2d8f-4ed7-4b8c-a587-bc3b1454b451"
   },
   "outputs": [
    {
     "data": {
      "text/plain": [
       "(11482, 3)"
      ]
     },
     "execution_count": 58,
     "metadata": {},
     "output_type": "execute_result"
    }
   ],
   "source": [
    "# shape of negative set\n",
    "negative_df.shape"
   ]
  },
  {
   "cell_type": "code",
   "execution_count": 59,
   "metadata": {
    "colab": {
     "base_uri": "https://localhost:8080/",
     "height": 49
    },
    "id": "1NWEhpKcqZ_w",
    "outputId": "6a804ad8-9039-4c6c-b90c-f430d374234a"
   },
   "outputs": [
    {
     "data": {
      "text/html": [
       "<div>\n",
       "<style scoped>\n",
       "    .dataframe tbody tr th:only-of-type {\n",
       "        vertical-align: middle;\n",
       "    }\n",
       "\n",
       "    .dataframe tbody tr th {\n",
       "        vertical-align: top;\n",
       "    }\n",
       "\n",
       "    .dataframe thead th {\n",
       "        text-align: right;\n",
       "    }\n",
       "</style>\n",
       "<table border=\"1\" class=\"dataframe\">\n",
       "  <thead>\n",
       "    <tr style=\"text-align: right;\">\n",
       "      <th></th>\n",
       "      <th>Patient-Uid</th>\n",
       "      <th>Date</th>\n",
       "      <th>Incident</th>\n",
       "      <th>Prescription_Count</th>\n",
       "    </tr>\n",
       "  </thead>\n",
       "  <tbody>\n",
       "  </tbody>\n",
       "</table>\n",
       "</div>"
      ],
      "text/plain": [
       "Empty DataFrame\n",
       "Columns: [Patient-Uid, Date, Incident, Prescription_Count]\n",
       "Index: []"
      ]
     },
     "execution_count": 59,
     "metadata": {},
     "output_type": "execute_result"
    }
   ],
   "source": [
    "# to get the count of previous prescriptions within specific time intervals\n",
    "positive_df['Prescription_Count'] = positive_df.groupby('Patient-Uid')['Date'].cumcount()\n",
    "negative_df['Prescription_Count'] = negative_df.groupby('Patient-Uid')['Date'].cumcount()\n",
    "positive_df.tail(5)"
   ]
  },
  {
   "cell_type": "code",
   "execution_count": 60,
   "metadata": {
    "colab": {
     "base_uri": "https://localhost:8080/",
     "height": 206
    },
    "id": "yGDzE75oqf0g",
    "outputId": "1486834d-bf0a-43ff-9b13-0613256edb3f"
   },
   "outputs": [
    {
     "data": {
      "text/html": [
       "<div>\n",
       "<style scoped>\n",
       "    .dataframe tbody tr th:only-of-type {\n",
       "        vertical-align: middle;\n",
       "    }\n",
       "\n",
       "    .dataframe tbody tr th {\n",
       "        vertical-align: top;\n",
       "    }\n",
       "\n",
       "    .dataframe thead th {\n",
       "        text-align: right;\n",
       "    }\n",
       "</style>\n",
       "<table border=\"1\" class=\"dataframe\">\n",
       "  <thead>\n",
       "    <tr style=\"text-align: right;\">\n",
       "      <th></th>\n",
       "      <th>Patient-Uid</th>\n",
       "      <th>Date</th>\n",
       "      <th>Incident</th>\n",
       "      <th>Prescription_Count</th>\n",
       "    </tr>\n",
       "  </thead>\n",
       "  <tbody>\n",
       "    <tr>\n",
       "      <th>1372381</th>\n",
       "      <td>a102720c-1c7c-11ec-bd9a-16262ee38c7f</td>\n",
       "      <td>2020-01-07</td>\n",
       "      <td>DRUG_TYPE_6</td>\n",
       "      <td>0</td>\n",
       "    </tr>\n",
       "    <tr>\n",
       "      <th>1372432</th>\n",
       "      <td>a102723c-1c7c-11ec-9f80-16262ee38c7f</td>\n",
       "      <td>2019-07-06</td>\n",
       "      <td>DRUG_TYPE_3</td>\n",
       "      <td>0</td>\n",
       "    </tr>\n",
       "    <tr>\n",
       "      <th>1372543</th>\n",
       "      <td>a102726b-1c7c-11ec-bfbf-16262ee38c7f</td>\n",
       "      <td>2018-12-31</td>\n",
       "      <td>DRUG_TYPE_0</td>\n",
       "      <td>0</td>\n",
       "    </tr>\n",
       "    <tr>\n",
       "      <th>1372607</th>\n",
       "      <td>a102729b-1c7c-11ec-86ba-16262ee38c7f</td>\n",
       "      <td>2019-04-02</td>\n",
       "      <td>DRUG_TYPE_3</td>\n",
       "      <td>0</td>\n",
       "    </tr>\n",
       "    <tr>\n",
       "      <th>1372859</th>\n",
       "      <td>a10272c9-1c7c-11ec-b3ce-16262ee38c7f</td>\n",
       "      <td>2017-05-19</td>\n",
       "      <td>DRUG_TYPE_7</td>\n",
       "      <td>0</td>\n",
       "    </tr>\n",
       "  </tbody>\n",
       "</table>\n",
       "</div>"
      ],
      "text/plain": [
       "                                  Patient-Uid       Date     Incident   \n",
       "1372381  a102720c-1c7c-11ec-bd9a-16262ee38c7f 2020-01-07  DRUG_TYPE_6  \\\n",
       "1372432  a102723c-1c7c-11ec-9f80-16262ee38c7f 2019-07-06  DRUG_TYPE_3   \n",
       "1372543  a102726b-1c7c-11ec-bfbf-16262ee38c7f 2018-12-31  DRUG_TYPE_0   \n",
       "1372607  a102729b-1c7c-11ec-86ba-16262ee38c7f 2019-04-02  DRUG_TYPE_3   \n",
       "1372859  a10272c9-1c7c-11ec-b3ce-16262ee38c7f 2017-05-19  DRUG_TYPE_7   \n",
       "\n",
       "         Prescription_Count  \n",
       "1372381                   0  \n",
       "1372432                   0  \n",
       "1372543                   0  \n",
       "1372607                   0  \n",
       "1372859                   0  "
      ]
     },
     "execution_count": 60,
     "metadata": {},
     "output_type": "execute_result"
    }
   ],
   "source": [
    "negative_df.tail()"
   ]
  },
  {
   "cell_type": "code",
   "execution_count": 61,
   "metadata": {
    "id": "cpxOfqQsqlqT"
   },
   "outputs": [],
   "source": [
    "# to get the difference between the most recent prescription and the prediction date.\n",
    "prediction_date = pd.to_datetime('today') + pd.DateOffset(days=30)\n",
    "positive_df['Time_diff'] = (prediction_date - positive_df.groupby('Patient-Uid')['Date'].transform('max')).dt.days\n",
    "negative_df['Time_diff'] = (prediction_date - negative_df.groupby('Patient-Uid')['Date'].transform('max')).dt.days"
   ]
  },
  {
   "cell_type": "code",
   "execution_count": 62,
   "metadata": {
    "colab": {
     "base_uri": "https://localhost:8080/",
     "height": 49
    },
    "id": "yBZ6RjA6qp1x",
    "outputId": "e9ec24f6-6f58-43ab-8080-b1267b8be20a"
   },
   "outputs": [
    {
     "data": {
      "text/html": [
       "<div>\n",
       "<style scoped>\n",
       "    .dataframe tbody tr th:only-of-type {\n",
       "        vertical-align: middle;\n",
       "    }\n",
       "\n",
       "    .dataframe tbody tr th {\n",
       "        vertical-align: top;\n",
       "    }\n",
       "\n",
       "    .dataframe thead th {\n",
       "        text-align: right;\n",
       "    }\n",
       "</style>\n",
       "<table border=\"1\" class=\"dataframe\">\n",
       "  <thead>\n",
       "    <tr style=\"text-align: right;\">\n",
       "      <th></th>\n",
       "      <th>Patient-Uid</th>\n",
       "      <th>Date</th>\n",
       "      <th>Incident</th>\n",
       "      <th>Prescription_Count</th>\n",
       "      <th>Time_diff</th>\n",
       "    </tr>\n",
       "  </thead>\n",
       "  <tbody>\n",
       "  </tbody>\n",
       "</table>\n",
       "</div>"
      ],
      "text/plain": [
       "Empty DataFrame\n",
       "Columns: [Patient-Uid, Date, Incident, Prescription_Count, Time_diff]\n",
       "Index: []"
      ]
     },
     "execution_count": 62,
     "metadata": {},
     "output_type": "execute_result"
    }
   ],
   "source": [
    "positive_df.head()"
   ]
  },
  {
   "cell_type": "code",
   "execution_count": 63,
   "metadata": {
    "colab": {
     "base_uri": "https://localhost:8080/",
     "height": 206
    },
    "id": "5z4pmsLGqtBv",
    "outputId": "2a55b84b-b7aa-4b30-efa6-9aaf96344fe9"
   },
   "outputs": [
    {
     "data": {
      "text/html": [
       "<div>\n",
       "<style scoped>\n",
       "    .dataframe tbody tr th:only-of-type {\n",
       "        vertical-align: middle;\n",
       "    }\n",
       "\n",
       "    .dataframe tbody tr th {\n",
       "        vertical-align: top;\n",
       "    }\n",
       "\n",
       "    .dataframe thead th {\n",
       "        text-align: right;\n",
       "    }\n",
       "</style>\n",
       "<table border=\"1\" class=\"dataframe\">\n",
       "  <thead>\n",
       "    <tr style=\"text-align: right;\">\n",
       "      <th></th>\n",
       "      <th>Patient-Uid</th>\n",
       "      <th>Date</th>\n",
       "      <th>Incident</th>\n",
       "      <th>Prescription_Count</th>\n",
       "      <th>Time_diff</th>\n",
       "    </tr>\n",
       "  </thead>\n",
       "  <tbody>\n",
       "    <tr>\n",
       "      <th>57</th>\n",
       "      <td>a0f9e8a9-1c7c-11ec-8d25-16262ee38c7f</td>\n",
       "      <td>2017-12-01</td>\n",
       "      <td>TEST_TYPE_0</td>\n",
       "      <td>0</td>\n",
       "      <td>2183</td>\n",
       "    </tr>\n",
       "    <tr>\n",
       "      <th>208</th>\n",
       "      <td>a0f9e9f9-1c7c-11ec-b565-16262ee38c7f</td>\n",
       "      <td>2016-06-22</td>\n",
       "      <td>DRUG_TYPE_9</td>\n",
       "      <td>0</td>\n",
       "      <td>2710</td>\n",
       "    </tr>\n",
       "    <tr>\n",
       "      <th>305</th>\n",
       "      <td>a0f9ea43-1c7c-11ec-aa10-16262ee38c7f</td>\n",
       "      <td>2019-07-21</td>\n",
       "      <td>DRUG_TYPE_6</td>\n",
       "      <td>0</td>\n",
       "      <td>1586</td>\n",
       "    </tr>\n",
       "    <tr>\n",
       "      <th>420</th>\n",
       "      <td>a0f9ea7c-1c7c-11ec-af15-16262ee38c7f</td>\n",
       "      <td>2016-06-15</td>\n",
       "      <td>DRUG_TYPE_6</td>\n",
       "      <td>0</td>\n",
       "      <td>2717</td>\n",
       "    </tr>\n",
       "    <tr>\n",
       "      <th>497</th>\n",
       "      <td>a0f9eab1-1c7c-11ec-a732-16262ee38c7f</td>\n",
       "      <td>2018-11-22</td>\n",
       "      <td>DRUG_TYPE_6</td>\n",
       "      <td>0</td>\n",
       "      <td>1827</td>\n",
       "    </tr>\n",
       "  </tbody>\n",
       "</table>\n",
       "</div>"
      ],
      "text/plain": [
       "                              Patient-Uid       Date     Incident   \n",
       "57   a0f9e8a9-1c7c-11ec-8d25-16262ee38c7f 2017-12-01  TEST_TYPE_0  \\\n",
       "208  a0f9e9f9-1c7c-11ec-b565-16262ee38c7f 2016-06-22  DRUG_TYPE_9   \n",
       "305  a0f9ea43-1c7c-11ec-aa10-16262ee38c7f 2019-07-21  DRUG_TYPE_6   \n",
       "420  a0f9ea7c-1c7c-11ec-af15-16262ee38c7f 2016-06-15  DRUG_TYPE_6   \n",
       "497  a0f9eab1-1c7c-11ec-a732-16262ee38c7f 2018-11-22  DRUG_TYPE_6   \n",
       "\n",
       "     Prescription_Count  Time_diff  \n",
       "57                    0       2183  \n",
       "208                   0       2710  \n",
       "305                   0       1586  \n",
       "420                   0       2717  \n",
       "497                   0       1827  "
      ]
     },
     "execution_count": 63,
     "metadata": {},
     "output_type": "execute_result"
    }
   ],
   "source": [
    "negative_df.head()"
   ]
  },
  {
   "cell_type": "code",
   "execution_count": 64,
   "metadata": {
    "colab": {
     "base_uri": "https://localhost:8080/",
     "height": 206
    },
    "id": "rudnNxvNqwCh",
    "outputId": "7a72a038-5d54-4bd3-8c41-78ba26cbdc64"
   },
   "outputs": [
    {
     "data": {
      "text/html": [
       "<div>\n",
       "<style scoped>\n",
       "    .dataframe tbody tr th:only-of-type {\n",
       "        vertical-align: middle;\n",
       "    }\n",
       "\n",
       "    .dataframe tbody tr th {\n",
       "        vertical-align: top;\n",
       "    }\n",
       "\n",
       "    .dataframe thead th {\n",
       "        text-align: right;\n",
       "    }\n",
       "</style>\n",
       "<table border=\"1\" class=\"dataframe\">\n",
       "  <thead>\n",
       "    <tr style=\"text-align: right;\">\n",
       "      <th></th>\n",
       "      <th>Patient-Uid</th>\n",
       "      <th>Date</th>\n",
       "      <th>Incident</th>\n",
       "      <th>Prescription_Count</th>\n",
       "      <th>Time_diff</th>\n",
       "    </tr>\n",
       "  </thead>\n",
       "  <tbody>\n",
       "    <tr>\n",
       "      <th>57</th>\n",
       "      <td>a0f9e8a9-1c7c-11ec-8d25-16262ee38c7f</td>\n",
       "      <td>2017-12-01</td>\n",
       "      <td>TEST_TYPE_0</td>\n",
       "      <td>0</td>\n",
       "      <td>2183</td>\n",
       "    </tr>\n",
       "    <tr>\n",
       "      <th>208</th>\n",
       "      <td>a0f9e9f9-1c7c-11ec-b565-16262ee38c7f</td>\n",
       "      <td>2016-06-22</td>\n",
       "      <td>DRUG_TYPE_9</td>\n",
       "      <td>0</td>\n",
       "      <td>2710</td>\n",
       "    </tr>\n",
       "    <tr>\n",
       "      <th>305</th>\n",
       "      <td>a0f9ea43-1c7c-11ec-aa10-16262ee38c7f</td>\n",
       "      <td>2019-07-21</td>\n",
       "      <td>DRUG_TYPE_6</td>\n",
       "      <td>0</td>\n",
       "      <td>1586</td>\n",
       "    </tr>\n",
       "    <tr>\n",
       "      <th>420</th>\n",
       "      <td>a0f9ea7c-1c7c-11ec-af15-16262ee38c7f</td>\n",
       "      <td>2016-06-15</td>\n",
       "      <td>DRUG_TYPE_6</td>\n",
       "      <td>0</td>\n",
       "      <td>2717</td>\n",
       "    </tr>\n",
       "    <tr>\n",
       "      <th>497</th>\n",
       "      <td>a0f9eab1-1c7c-11ec-a732-16262ee38c7f</td>\n",
       "      <td>2018-11-22</td>\n",
       "      <td>DRUG_TYPE_6</td>\n",
       "      <td>0</td>\n",
       "      <td>1827</td>\n",
       "    </tr>\n",
       "  </tbody>\n",
       "</table>\n",
       "</div>"
      ],
      "text/plain": [
       "                              Patient-Uid       Date     Incident   \n",
       "57   a0f9e8a9-1c7c-11ec-8d25-16262ee38c7f 2017-12-01  TEST_TYPE_0  \\\n",
       "208  a0f9e9f9-1c7c-11ec-b565-16262ee38c7f 2016-06-22  DRUG_TYPE_9   \n",
       "305  a0f9ea43-1c7c-11ec-aa10-16262ee38c7f 2019-07-21  DRUG_TYPE_6   \n",
       "420  a0f9ea7c-1c7c-11ec-af15-16262ee38c7f 2016-06-15  DRUG_TYPE_6   \n",
       "497  a0f9eab1-1c7c-11ec-a732-16262ee38c7f 2018-11-22  DRUG_TYPE_6   \n",
       "\n",
       "     Prescription_Count  Time_diff  \n",
       "57                    0       2183  \n",
       "208                   0       2710  \n",
       "305                   0       1586  \n",
       "420                   0       2717  \n",
       "497                   0       1827  "
      ]
     },
     "execution_count": 64,
     "metadata": {},
     "output_type": "execute_result"
    }
   ],
   "source": [
    "# creating new dataset by concating positive and negative sets\n",
    "new_df = pd.concat([positive_df, negative_df])\n",
    "new_df.head()"
   ]
  },
  {
   "cell_type": "code",
   "execution_count": 65,
   "metadata": {
    "colab": {
     "base_uri": "https://localhost:8080/"
    },
    "id": "sSu5i18Lq0Jg",
    "outputId": "dc6ef56d-e08d-4bff-c883-96fb9fcd45da"
   },
   "outputs": [
    {
     "data": {
      "text/plain": [
       "(11482, 5)"
      ]
     },
     "execution_count": 65,
     "metadata": {},
     "output_type": "execute_result"
    }
   ],
   "source": [
    "new_df.shape"
   ]
  },
  {
   "cell_type": "code",
   "execution_count": 66,
   "metadata": {
    "id": "VNvcffa-r6i_"
   },
   "outputs": [],
   "source": [
    "train_df.drop_duplicates(inplace = True)"
   ]
  },
  {
   "cell_type": "code",
   "execution_count": 67,
   "metadata": {
    "id": "AijcbjRioF7I"
   },
   "outputs": [],
   "source": [
    "test_df['Prescription_Count'] = test_df.groupby('Patient-Uid')['Date'].cumcount()\n",
    "test_df['Time_diff'] = (prediction_date - test_df.groupby('Patient-Uid')['Date'].transform(max)).dt.days"
   ]
  },
  {
   "cell_type": "code",
   "execution_count": 68,
   "metadata": {
    "id": "JZtGOOjGrYJH"
   },
   "outputs": [],
   "source": [
    "test_data_pred = xgb_classifier.predict(test_df[['Prescription_Count', 'Time_diff']])"
   ]
  },
  {
   "cell_type": "code",
   "execution_count": 69,
   "metadata": {
    "colab": {
     "base_uri": "https://localhost:8080/"
    },
    "id": "vEqC12Toralg",
    "outputId": "c39b4450-cb3d-4808-e6ae-d3b0a67c68fb"
   },
   "outputs": [
    {
     "data": {
      "text/plain": [
       "array([0, 1, 1, ..., 1, 1, 1])"
      ]
     },
     "execution_count": 69,
     "metadata": {},
     "output_type": "execute_result"
    }
   ],
   "source": [
    "test_data_pred"
   ]
  },
  {
   "cell_type": "code",
   "execution_count": 70,
   "metadata": {
    "colab": {
     "base_uri": "https://localhost:8080/",
     "height": 206
    },
    "id": "-rh3mHGUrd_i",
    "outputId": "eb25af91-0454-4466-b758-381ace578d58"
   },
   "outputs": [
    {
     "data": {
      "text/html": [
       "<div>\n",
       "<style scoped>\n",
       "    .dataframe tbody tr th:only-of-type {\n",
       "        vertical-align: middle;\n",
       "    }\n",
       "\n",
       "    .dataframe tbody tr th {\n",
       "        vertical-align: top;\n",
       "    }\n",
       "\n",
       "    .dataframe thead th {\n",
       "        text-align: right;\n",
       "    }\n",
       "</style>\n",
       "<table border=\"1\" class=\"dataframe\">\n",
       "  <thead>\n",
       "    <tr style=\"text-align: right;\">\n",
       "      <th></th>\n",
       "      <th>Patient-Uid</th>\n",
       "      <th>Prediction</th>\n",
       "    </tr>\n",
       "  </thead>\n",
       "  <tbody>\n",
       "    <tr>\n",
       "      <th>0</th>\n",
       "      <td>a0f9e8a9-1c7c-11ec-8d25-16262ee38c7f</td>\n",
       "      <td>0</td>\n",
       "    </tr>\n",
       "    <tr>\n",
       "      <th>1</th>\n",
       "      <td>a0f9e8a9-1c7c-11ec-8d25-16262ee38c7f</td>\n",
       "      <td>1</td>\n",
       "    </tr>\n",
       "    <tr>\n",
       "      <th>2</th>\n",
       "      <td>a0f9e8a9-1c7c-11ec-8d25-16262ee38c7f</td>\n",
       "      <td>1</td>\n",
       "    </tr>\n",
       "    <tr>\n",
       "      <th>3</th>\n",
       "      <td>a0f9e8a9-1c7c-11ec-8d25-16262ee38c7f</td>\n",
       "      <td>1</td>\n",
       "    </tr>\n",
       "    <tr>\n",
       "      <th>4</th>\n",
       "      <td>a0f9e8a9-1c7c-11ec-8d25-16262ee38c7f</td>\n",
       "      <td>1</td>\n",
       "    </tr>\n",
       "  </tbody>\n",
       "</table>\n",
       "</div>"
      ],
      "text/plain": [
       "                            Patient-Uid  Prediction\n",
       "0  a0f9e8a9-1c7c-11ec-8d25-16262ee38c7f           0\n",
       "1  a0f9e8a9-1c7c-11ec-8d25-16262ee38c7f           1\n",
       "2  a0f9e8a9-1c7c-11ec-8d25-16262ee38c7f           1\n",
       "3  a0f9e8a9-1c7c-11ec-8d25-16262ee38c7f           1\n",
       "4  a0f9e8a9-1c7c-11ec-8d25-16262ee38c7f           1"
      ]
     },
     "execution_count": 70,
     "metadata": {},
     "output_type": "execute_result"
    }
   ],
   "source": [
    "# to create final submission file\n",
    "Final_submission = pd.DataFrame({'Patient-Uid': test_df['Patient-Uid'], 'Prediction': test_data_pred})\n",
    "Final_submission.head()"
   ]
  },
  {
   "cell_type": "code",
   "execution_count": 72,
   "metadata": {
    "id": "_dufXoskriEX"
   },
   "outputs": [],
   "source": [
    "Final_submission.to_csv('Final_submission.csv', index = False)"
   ]
  },
  {
   "cell_type": "code",
   "execution_count": null,
   "metadata": {},
   "outputs": [],
   "source": []
  }
 ],
 "metadata": {
  "colab": {
   "provenance": []
  },
  "kernelspec": {
   "display_name": "Python 3 (ipykernel)",
   "language": "python",
   "name": "python3"
  },
  "language_info": {
   "codemirror_mode": {
    "name": "ipython",
    "version": 3
   },
   "file_extension": ".py",
   "mimetype": "text/x-python",
   "name": "python",
   "nbconvert_exporter": "python",
   "pygments_lexer": "ipython3",
   "version": "3.11.3"
  }
 },
 "nbformat": 4,
 "nbformat_minor": 1
}
