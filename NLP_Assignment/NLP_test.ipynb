{
 "cells": [
  {
   "cell_type": "markdown",
   "id": "d0be4ef2",
   "metadata": {},
   "source": [
    "## Install Required Packages"
   ]
  },
  {
   "cell_type": "code",
   "execution_count": 21,
   "id": "c2b8484d",
   "metadata": {
    "scrolled": true
   },
   "outputs": [
    {
     "name": "stdout",
     "output_type": "stream",
     "text": [
      "Requirement already satisfied: pip in /Library/Frameworks/Python.framework/Versions/3.11/lib/python3.11/site-packages (23.3.1)\n",
      "Requirement already satisfied: pdfplumber in /Library/Frameworks/Python.framework/Versions/3.11/lib/python3.11/site-packages (0.10.2)\n",
      "Requirement already satisfied: pdfminer.six==20221105 in /Library/Frameworks/Python.framework/Versions/3.11/lib/python3.11/site-packages (from pdfplumber) (20221105)\n",
      "Requirement already satisfied: Pillow>=9.1 in /Library/Frameworks/Python.framework/Versions/3.11/lib/python3.11/site-packages (from pdfplumber) (9.5.0)\n",
      "Requirement already satisfied: pypdfium2>=4.18.0 in /Library/Frameworks/Python.framework/Versions/3.11/lib/python3.11/site-packages (from pdfplumber) (4.22.0)\n",
      "Requirement already satisfied: charset-normalizer>=2.0.0 in /Library/Frameworks/Python.framework/Versions/3.11/lib/python3.11/site-packages (from pdfminer.six==20221105->pdfplumber) (3.1.0)\n",
      "Requirement already satisfied: cryptography>=36.0.0 in /Library/Frameworks/Python.framework/Versions/3.11/lib/python3.11/site-packages (from pdfminer.six==20221105->pdfplumber) (41.0.4)\n",
      "Requirement already satisfied: cffi>=1.12 in /Library/Frameworks/Python.framework/Versions/3.11/lib/python3.11/site-packages (from cryptography>=36.0.0->pdfminer.six==20221105->pdfplumber) (1.15.1)\n",
      "Requirement already satisfied: pycparser in /Library/Frameworks/Python.framework/Versions/3.11/lib/python3.11/site-packages (from cffi>=1.12->cryptography>=36.0.0->pdfminer.six==20221105->pdfplumber) (2.21)\n"
     ]
    }
   ],
   "source": [
    "!pip install --upgrade pip\n",
    "!pip install -q openai\n",
    "!pip install pdfplumber\n",
    "!pip install tqdm\n"
   ]
  },
  {
   "cell_type": "code",
   "execution_count": null,
   "id": "452dec09",
   "metadata": {},
   "outputs": [],
   "source": []
  },
  {
   "cell_type": "markdown",
   "id": "05d85800",
   "metadata": {},
   "source": [
    "## Import Required Packages"
   ]
  },
  {
   "cell_type": "code",
   "execution_count": 7,
   "id": "7f08ab9a",
   "metadata": {},
   "outputs": [],
   "source": [
    "import openai\n",
    "import random\n",
    "import pdfplumber\n",
    "import tqdm"
   ]
  },
  {
   "cell_type": "markdown",
   "id": "719d5517",
   "metadata": {},
   "source": [
    "### Enter Your GPT Api Key"
   ]
  },
  {
   "cell_type": "code",
   "execution_count": 8,
   "id": "18bb6f22",
   "metadata": {},
   "outputs": [],
   "source": [
    "openai.api_key = \"\""
   ]
  },
  {
   "cell_type": "code",
   "execution_count": 9,
   "id": "82ed2cfe",
   "metadata": {},
   "outputs": [],
   "source": [
    "messages = [\n",
    "    {\"role\": \"system\", \"content\": \"You are a kind helpful assistant.\"},\n",
    "]"
   ]
  },
  {
   "cell_type": "markdown",
   "id": "0cb3748e",
   "metadata": {},
   "source": [
    "## Function for extracting text from Files"
   ]
  },
  {
   "cell_type": "code",
   "execution_count": 22,
   "id": "fd1fd1e7",
   "metadata": {},
   "outputs": [],
   "source": [
    "def extract_text_from_pdf(pdf_file_path):\n",
    "    text = \"\"\n",
    "    with pdfplumber.open(pdf_file_path) as pdf:\n",
    "        for page in pdf.pages:\n",
    "            text += page.extract_text()\n",
    "    return text\n",
    "\n",
    "# Read the PDF file\n",
    "pdf_file_path = \"chapter-2.pdf\"\n",
    "pdf_text = extract_text_from_pdf(pdf_file_path)\n",
    "\n",
    "# Split the PDF text into smaller chunks\n",
    "text_chunks = [pdf_text[i:i+4090] for i in range(0, len(pdf_text), 4090)]"
   ]
  },
  {
   "cell_type": "markdown",
   "id": "0c11ba66",
   "metadata": {},
   "source": [
    "## Function for Summarize text which we get from previous function"
   ]
  },
  {
   "cell_type": "code",
   "execution_count": 11,
   "id": "7acbe859",
   "metadata": {},
   "outputs": [],
   "source": [
    "def get_all_abs_text(text):\n",
    "    #import pdb;pdb.set_trace()\n",
    "    chat_history = [{\"role\": \"system\", \"content\": \"You are a helpful assistant.\"}]\n",
    "    abstracted_text = ''\n",
    "    for i, chunk in tqdm(text,desc =\"Summary\"): \n",
    "        chat_history.append({\"role\": \"user\", \"content\": \"Summarize the following text:\"})\n",
    "        chat_history.append({\"role\": \"assistant\", \"content\": chunk})\n",
    "        response = openai.ChatCompletion.create(\n",
    "            model=\"gpt-3.5-turbo\",\n",
    "            messages=chat_history,\n",
    "            max_tokens=300\n",
    "        )\n",
    "        summary = response['choices'][0]['message']['content']\n",
    "        abstracted_text += summary\n",
    "        chat_history = [{\"role\": \"system\", \"content\": \"You are a helpful assistant.\"}]\n",
    "    return abstracted_text\n"
   ]
  },
  {
   "cell_type": "code",
   "execution_count": 12,
   "id": "707102c1",
   "metadata": {},
   "outputs": [
    {
     "name": "stdout",
     "output_type": "stream",
     "text": [
      "Creating summary for Page No.1\n",
      "Creating summary for Page No.2\n",
      "Creating summary for Page No.3\n",
      "Creating summary for Page No.4\n",
      "Creating summary for Page No.5\n",
      "Creating summary for Page No.6\n",
      "Creating summary for Page No.7\n",
      "Creating summary for Page No.8\n",
      "Creating summary for Page No.9\n"
     ]
    }
   ],
   "source": [
    "abstracted_text = get_all_abs_text(text_chunks)"
   ]
  },
  {
   "cell_type": "markdown",
   "id": "087299ab",
   "metadata": {},
   "source": [
    "## Function for To Create MCQ with multiple Ans"
   ]
  },
  {
   "cell_type": "code",
   "execution_count": 14,
   "id": "4f3cb1a2",
   "metadata": {},
   "outputs": [
    {
     "name": "stdout",
     "output_type": "stream",
     "text": [
      "MCQ Question 1: Which battle marked the first major victory of the East India Company in India? \n",
      "a) Battle of Plassey \n",
      "b) Battle of Awadh \n",
      "c) Battle of Bengal \n",
      "d) Battle of Mysore\n",
      "A. Choice A\n",
      "B. Choice B\n",
      "C. Choice C\n",
      "D. Choice D\n",
      "Correct Answers: Choice D, Choice A\n",
      "\n",
      "MCQ Question 2: Which European power competed with the British East India Company in the Indian market during the rise of the company in India?\n",
      "\n",
      "a) Portuguese\n",
      "b) Dutch\n",
      "c) French\n",
      "d) All of the above\n",
      "A. Choice A\n",
      "B. Choice B\n",
      "C. Choice C\n",
      "D. Choice D\n",
      "Correct Answers: Choice C, Choice D\n",
      "\n",
      "MCQ Question 3: Which event led to the East India Company becoming the Diwan of the provinces of Bengal?\n",
      "\n",
      "a) The Battle of Plassey\n",
      "b) The decline of the Marathas\n",
      "c) The 1857 revolt\n",
      "d) The establishment of the Supreme Court\n",
      "A. Choice A\n",
      "B. Choice B\n",
      "C. Choice C\n",
      "D. Choice D\n",
      "Correct Answers: Choice C, Choice A\n",
      "\n",
      "MCQ Question 4: Question: What factors contributed to the rise of the British East India Company in India?\n",
      "\n",
      "a) The decline of the Mughal empire and the emergence of regional kingdoms\n",
      "b) The charter from Queen Elizabeth I, which gave the company exclusive rights to trade with the East\n",
      "c) Competition with other European powers in the Indian market\n",
      "d) The acquisition of power and wealth through political, economic, and diplomatic methods\n",
      "e) All of the above\n",
      "A. Choice A\n",
      "B. Choice B\n",
      "C. Choice C\n",
      "D. Choice D\n",
      "Correct Answers: Choice C, Choice B\n",
      "\n",
      "MCQ Question 5: Which European power had a charter from Queen Elizabeth I giving it exclusive rights to trade with the East and exclude competition?\n",
      "\n",
      "a) Portuguese\n",
      "b) Dutch\n",
      "c) French\n",
      "d) British East India Company\n",
      "A. Choice A\n",
      "B. Choice B\n",
      "C. Choice C\n",
      "D. Choice D\n",
      "Correct Answers: Choice C, Choice D\n",
      "\n"
     ]
    }
   ],
   "source": [
    "\n",
    "# Define a function to generate an MCQ with multiple answers\n",
    "def generate_mcq_with_multiple_answers(input_text, num_choices=4, num_correct_answers=2):\n",
    "    question = \"\"\n",
    "    correct_answers = []\n",
    "\n",
    "    # Generate the question stem using GPT-3.5-turbo\n",
    "    response = openai.ChatCompletion.create(\n",
    "        model=\"gpt-3.5-turbo\",\n",
    "        messages=[\n",
    "            {\"role\": \"system\", \"content\": \"You are a question generator.\"},\n",
    "            {\"role\": \"user\", \"content\": f\"Generate an MCQ question based on the following text: {input_text}\"}\n",
    "        ]\n",
    "    )\n",
    "\n",
    "    question = response['choices'][0]['message']['content'].strip()\n",
    "\n",
    "    # Generate answer choices\n",
    "    answer_choices = generate_answer_choices(input_text, num_choices)\n",
    "\n",
    "    # Randomly select multiple correct answers\n",
    "    correct_indices = random.sample(range(num_choices), num_correct_answers)\n",
    "    correct_answers = [answer_choices[i] for i in correct_indices]\n",
    "\n",
    "    return question, answer_choices, correct_answers\n",
    "\n",
    "# Define a function to generate answer choices\n",
    "def generate_answer_choices(input_text, num_choices):\n",
    "    answer_choices = []\n",
    "\n",
    "    # Here, you can generate answer choices based on the context and input text\n",
    "    # For simplicity, we use placeholder choices\n",
    "    for i in range(num_choices):\n",
    "        answer_choices.append(f\"Choice {chr(65 + i)}\")\n",
    "\n",
    "    return answer_choices\n",
    "\n",
    "# Define a function to generate multiple MCQs\n",
    "def generate_multiple_mcqs(input_text, num_mcqs, num_choices=4, num_correct_answers=2):\n",
    "    mcqs = []\n",
    "\n",
    "    for _ in range(num_mcqs):\n",
    "        mcq_question, choices, correct_answers = generate_mcq_with_multiple_answers(input_text, num_choices, num_correct_answers)\n",
    "        mcqs.append((mcq_question, choices, correct_answers))\n",
    "\n",
    "    return mcqs\n",
    "\n",
    "# Generate a list of MCQs\n",
    "num_mcqs = 5  # Change this value to generate more MCQs\n",
    "mcq_list = generate_multiple_mcqs(abstracted_text, num_mcqs)\n",
    "\n",
    "# Print the generated MCQs and their answer choices\n",
    "for i, (question, choices, correct_answers) in enumerate(mcq_list):\n",
    "    print(f\"MCQ Question {i + 1}: {question}\")\n",
    "    for j, choice in enumerate(choices):\n",
    "        print(f\"{chr(65 + j)}. {choice}\")\n",
    "    print(f\"Correct Answers: {', '.join(correct_answers)}\")\n",
    "    print()\n"
   ]
  },
  {
   "cell_type": "code",
   "execution_count": null,
   "id": "befeac5a",
   "metadata": {},
   "outputs": [],
   "source": []
  }
 ],
 "metadata": {
  "kernelspec": {
   "display_name": "Python 3 (ipykernel)",
   "language": "python",
   "name": "python3"
  },
  "language_info": {
   "codemirror_mode": {
    "name": "ipython",
    "version": 3
   },
   "file_extension": ".py",
   "mimetype": "text/x-python",
   "name": "python",
   "nbconvert_exporter": "python",
   "pygments_lexer": "ipython3",
   "version": "3.11.3"
  }
 },
 "nbformat": 4,
 "nbformat_minor": 5
}
